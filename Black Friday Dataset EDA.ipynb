{
 "cells": [
  {
   "cell_type": "markdown",
   "id": "110c945f",
   "metadata": {},
   "source": [
    "Problem Statement\n",
    "A retail company “ABC Private Limited” wants to understand the customer purchase behaviour (specifically, purchase amount) against various products of different categories. They have shared purchase summary of various customers for selected high volume products from last month. The data set also contains customer demographics (age, gender, marital status, city_type, stay_in_current_city), product details (product_id and product category) and Total purchase_amount from last month.\n",
    "\n",
    "Now, they want to build a model to predict the purchase amount of customer against various products which will help them to create personalized offer for customers against different products."
   ]
  },
  {
   "cell_type": "code",
   "execution_count": 1,
   "id": "46f81e5d",
   "metadata": {},
   "outputs": [],
   "source": [
    "import pandas as pd\n",
    "import numpy as np\n",
    "import matplotlib.pyplot as plt\n",
    "import seaborn as sns\n",
    "%matplotlib inline"
   ]
  },
  {
   "cell_type": "code",
   "execution_count": 2,
   "id": "c62c0a72",
   "metadata": {},
   "outputs": [
    {
     "data": {
      "text/html": [
       "<div>\n",
       "<style scoped>\n",
       "    .dataframe tbody tr th:only-of-type {\n",
       "        vertical-align: middle;\n",
       "    }\n",
       "\n",
       "    .dataframe tbody tr th {\n",
       "        vertical-align: top;\n",
       "    }\n",
       "\n",
       "    .dataframe thead th {\n",
       "        text-align: right;\n",
       "    }\n",
       "</style>\n",
       "<table border=\"1\" class=\"dataframe\">\n",
       "  <thead>\n",
       "    <tr style=\"text-align: right;\">\n",
       "      <th></th>\n",
       "      <th>User_ID</th>\n",
       "      <th>Product_ID</th>\n",
       "      <th>Gender</th>\n",
       "      <th>Age</th>\n",
       "      <th>Occupation</th>\n",
       "      <th>City_Category</th>\n",
       "      <th>Stay_In_Current_City_Years</th>\n",
       "      <th>Marital_Status</th>\n",
       "      <th>Product_Category_1</th>\n",
       "      <th>Product_Category_2</th>\n",
       "      <th>Product_Category_3</th>\n",
       "      <th>Purchase</th>\n",
       "    </tr>\n",
       "  </thead>\n",
       "  <tbody>\n",
       "    <tr>\n",
       "      <th>0</th>\n",
       "      <td>1000001</td>\n",
       "      <td>P00069042</td>\n",
       "      <td>F</td>\n",
       "      <td>0-17</td>\n",
       "      <td>10</td>\n",
       "      <td>A</td>\n",
       "      <td>2</td>\n",
       "      <td>0</td>\n",
       "      <td>3</td>\n",
       "      <td>NaN</td>\n",
       "      <td>NaN</td>\n",
       "      <td>8370</td>\n",
       "    </tr>\n",
       "    <tr>\n",
       "      <th>1</th>\n",
       "      <td>1000001</td>\n",
       "      <td>P00248942</td>\n",
       "      <td>F</td>\n",
       "      <td>0-17</td>\n",
       "      <td>10</td>\n",
       "      <td>A</td>\n",
       "      <td>2</td>\n",
       "      <td>0</td>\n",
       "      <td>1</td>\n",
       "      <td>6.0</td>\n",
       "      <td>14.0</td>\n",
       "      <td>15200</td>\n",
       "    </tr>\n",
       "    <tr>\n",
       "      <th>2</th>\n",
       "      <td>1000001</td>\n",
       "      <td>P00087842</td>\n",
       "      <td>F</td>\n",
       "      <td>0-17</td>\n",
       "      <td>10</td>\n",
       "      <td>A</td>\n",
       "      <td>2</td>\n",
       "      <td>0</td>\n",
       "      <td>12</td>\n",
       "      <td>NaN</td>\n",
       "      <td>NaN</td>\n",
       "      <td>1422</td>\n",
       "    </tr>\n",
       "    <tr>\n",
       "      <th>3</th>\n",
       "      <td>1000001</td>\n",
       "      <td>P00085442</td>\n",
       "      <td>F</td>\n",
       "      <td>0-17</td>\n",
       "      <td>10</td>\n",
       "      <td>A</td>\n",
       "      <td>2</td>\n",
       "      <td>0</td>\n",
       "      <td>12</td>\n",
       "      <td>14.0</td>\n",
       "      <td>NaN</td>\n",
       "      <td>1057</td>\n",
       "    </tr>\n",
       "    <tr>\n",
       "      <th>4</th>\n",
       "      <td>1000002</td>\n",
       "      <td>P00285442</td>\n",
       "      <td>M</td>\n",
       "      <td>55+</td>\n",
       "      <td>16</td>\n",
       "      <td>C</td>\n",
       "      <td>4+</td>\n",
       "      <td>0</td>\n",
       "      <td>8</td>\n",
       "      <td>NaN</td>\n",
       "      <td>NaN</td>\n",
       "      <td>7969</td>\n",
       "    </tr>\n",
       "  </tbody>\n",
       "</table>\n",
       "</div>"
      ],
      "text/plain": [
       "   User_ID Product_ID Gender   Age  Occupation City_Category  \\\n",
       "0  1000001  P00069042      F  0-17          10             A   \n",
       "1  1000001  P00248942      F  0-17          10             A   \n",
       "2  1000001  P00087842      F  0-17          10             A   \n",
       "3  1000001  P00085442      F  0-17          10             A   \n",
       "4  1000002  P00285442      M   55+          16             C   \n",
       "\n",
       "  Stay_In_Current_City_Years  Marital_Status  Product_Category_1  \\\n",
       "0                          2               0                   3   \n",
       "1                          2               0                   1   \n",
       "2                          2               0                  12   \n",
       "3                          2               0                  12   \n",
       "4                         4+               0                   8   \n",
       "\n",
       "   Product_Category_2  Product_Category_3  Purchase  \n",
       "0                 NaN                 NaN      8370  \n",
       "1                 6.0                14.0     15200  \n",
       "2                 NaN                 NaN      1422  \n",
       "3                14.0                 NaN      1057  \n",
       "4                 NaN                 NaN      7969  "
      ]
     },
     "execution_count": 2,
     "metadata": {},
     "output_type": "execute_result"
    }
   ],
   "source": [
    "#import the train dataset\n",
    "df_train=pd.read_csv('train.csv')\n",
    "df_train.head()"
   ]
  },
  {
   "cell_type": "code",
   "execution_count": 3,
   "id": "7a166af4",
   "metadata": {},
   "outputs": [
    {
     "data": {
      "text/plain": [
       "(550068, 12)"
      ]
     },
     "execution_count": 3,
     "metadata": {},
     "output_type": "execute_result"
    }
   ],
   "source": [
    "df_train.shape"
   ]
  },
  {
   "cell_type": "code",
   "execution_count": 4,
   "id": "6c680a71",
   "metadata": {},
   "outputs": [
    {
     "data": {
      "text/html": [
       "<div>\n",
       "<style scoped>\n",
       "    .dataframe tbody tr th:only-of-type {\n",
       "        vertical-align: middle;\n",
       "    }\n",
       "\n",
       "    .dataframe tbody tr th {\n",
       "        vertical-align: top;\n",
       "    }\n",
       "\n",
       "    .dataframe thead th {\n",
       "        text-align: right;\n",
       "    }\n",
       "</style>\n",
       "<table border=\"1\" class=\"dataframe\">\n",
       "  <thead>\n",
       "    <tr style=\"text-align: right;\">\n",
       "      <th></th>\n",
       "      <th>User_ID</th>\n",
       "      <th>Product_ID</th>\n",
       "      <th>Gender</th>\n",
       "      <th>Age</th>\n",
       "      <th>Occupation</th>\n",
       "      <th>City_Category</th>\n",
       "      <th>Stay_In_Current_City_Years</th>\n",
       "      <th>Marital_Status</th>\n",
       "      <th>Product_Category_1</th>\n",
       "      <th>Product_Category_2</th>\n",
       "      <th>Product_Category_3</th>\n",
       "    </tr>\n",
       "  </thead>\n",
       "  <tbody>\n",
       "    <tr>\n",
       "      <th>0</th>\n",
       "      <td>1000004</td>\n",
       "      <td>P00128942</td>\n",
       "      <td>M</td>\n",
       "      <td>46-50</td>\n",
       "      <td>7</td>\n",
       "      <td>B</td>\n",
       "      <td>2</td>\n",
       "      <td>1</td>\n",
       "      <td>1</td>\n",
       "      <td>11.0</td>\n",
       "      <td>NaN</td>\n",
       "    </tr>\n",
       "    <tr>\n",
       "      <th>1</th>\n",
       "      <td>1000009</td>\n",
       "      <td>P00113442</td>\n",
       "      <td>M</td>\n",
       "      <td>26-35</td>\n",
       "      <td>17</td>\n",
       "      <td>C</td>\n",
       "      <td>0</td>\n",
       "      <td>0</td>\n",
       "      <td>3</td>\n",
       "      <td>5.0</td>\n",
       "      <td>NaN</td>\n",
       "    </tr>\n",
       "    <tr>\n",
       "      <th>2</th>\n",
       "      <td>1000010</td>\n",
       "      <td>P00288442</td>\n",
       "      <td>F</td>\n",
       "      <td>36-45</td>\n",
       "      <td>1</td>\n",
       "      <td>B</td>\n",
       "      <td>4+</td>\n",
       "      <td>1</td>\n",
       "      <td>5</td>\n",
       "      <td>14.0</td>\n",
       "      <td>NaN</td>\n",
       "    </tr>\n",
       "    <tr>\n",
       "      <th>3</th>\n",
       "      <td>1000010</td>\n",
       "      <td>P00145342</td>\n",
       "      <td>F</td>\n",
       "      <td>36-45</td>\n",
       "      <td>1</td>\n",
       "      <td>B</td>\n",
       "      <td>4+</td>\n",
       "      <td>1</td>\n",
       "      <td>4</td>\n",
       "      <td>9.0</td>\n",
       "      <td>NaN</td>\n",
       "    </tr>\n",
       "    <tr>\n",
       "      <th>4</th>\n",
       "      <td>1000011</td>\n",
       "      <td>P00053842</td>\n",
       "      <td>F</td>\n",
       "      <td>26-35</td>\n",
       "      <td>1</td>\n",
       "      <td>C</td>\n",
       "      <td>1</td>\n",
       "      <td>0</td>\n",
       "      <td>4</td>\n",
       "      <td>5.0</td>\n",
       "      <td>12.0</td>\n",
       "    </tr>\n",
       "  </tbody>\n",
       "</table>\n",
       "</div>"
      ],
      "text/plain": [
       "   User_ID Product_ID Gender    Age  Occupation City_Category  \\\n",
       "0  1000004  P00128942      M  46-50           7             B   \n",
       "1  1000009  P00113442      M  26-35          17             C   \n",
       "2  1000010  P00288442      F  36-45           1             B   \n",
       "3  1000010  P00145342      F  36-45           1             B   \n",
       "4  1000011  P00053842      F  26-35           1             C   \n",
       "\n",
       "  Stay_In_Current_City_Years  Marital_Status  Product_Category_1  \\\n",
       "0                          2               1                   1   \n",
       "1                          0               0                   3   \n",
       "2                         4+               1                   5   \n",
       "3                         4+               1                   4   \n",
       "4                          1               0                   4   \n",
       "\n",
       "   Product_Category_2  Product_Category_3  \n",
       "0                11.0                 NaN  \n",
       "1                 5.0                 NaN  \n",
       "2                14.0                 NaN  \n",
       "3                 9.0                 NaN  \n",
       "4                 5.0                12.0  "
      ]
     },
     "execution_count": 4,
     "metadata": {},
     "output_type": "execute_result"
    }
   ],
   "source": [
    "#import the train dataset\n",
    "df_test=pd.read_csv('test.csv')\n",
    "df_test.head()"
   ]
  },
  {
   "cell_type": "code",
   "execution_count": 5,
   "id": "985ece6f",
   "metadata": {},
   "outputs": [
    {
     "data": {
      "text/plain": [
       "(233599, 11)"
      ]
     },
     "execution_count": 5,
     "metadata": {},
     "output_type": "execute_result"
    }
   ],
   "source": [
    "df_test.shape"
   ]
  },
  {
   "cell_type": "code",
   "execution_count": 6,
   "id": "ec83df12",
   "metadata": {},
   "outputs": [
    {
     "name": "stderr",
     "output_type": "stream",
     "text": [
      "C:\\Users\\harip\\AppData\\Local\\Temp\\ipykernel_13812\\1052025940.py:2: FutureWarning: The frame.append method is deprecated and will be removed from pandas in a future version. Use pandas.concat instead.\n",
      "  df=df_train.append(df_test)\n"
     ]
    },
    {
     "data": {
      "text/html": [
       "<div>\n",
       "<style scoped>\n",
       "    .dataframe tbody tr th:only-of-type {\n",
       "        vertical-align: middle;\n",
       "    }\n",
       "\n",
       "    .dataframe tbody tr th {\n",
       "        vertical-align: top;\n",
       "    }\n",
       "\n",
       "    .dataframe thead th {\n",
       "        text-align: right;\n",
       "    }\n",
       "</style>\n",
       "<table border=\"1\" class=\"dataframe\">\n",
       "  <thead>\n",
       "    <tr style=\"text-align: right;\">\n",
       "      <th></th>\n",
       "      <th>User_ID</th>\n",
       "      <th>Product_ID</th>\n",
       "      <th>Gender</th>\n",
       "      <th>Age</th>\n",
       "      <th>Occupation</th>\n",
       "      <th>City_Category</th>\n",
       "      <th>Stay_In_Current_City_Years</th>\n",
       "      <th>Marital_Status</th>\n",
       "      <th>Product_Category_1</th>\n",
       "      <th>Product_Category_2</th>\n",
       "      <th>Product_Category_3</th>\n",
       "      <th>Purchase</th>\n",
       "    </tr>\n",
       "  </thead>\n",
       "  <tbody>\n",
       "    <tr>\n",
       "      <th>0</th>\n",
       "      <td>1000001</td>\n",
       "      <td>P00069042</td>\n",
       "      <td>F</td>\n",
       "      <td>0-17</td>\n",
       "      <td>10</td>\n",
       "      <td>A</td>\n",
       "      <td>2</td>\n",
       "      <td>0</td>\n",
       "      <td>3</td>\n",
       "      <td>NaN</td>\n",
       "      <td>NaN</td>\n",
       "      <td>8370.0</td>\n",
       "    </tr>\n",
       "    <tr>\n",
       "      <th>1</th>\n",
       "      <td>1000001</td>\n",
       "      <td>P00248942</td>\n",
       "      <td>F</td>\n",
       "      <td>0-17</td>\n",
       "      <td>10</td>\n",
       "      <td>A</td>\n",
       "      <td>2</td>\n",
       "      <td>0</td>\n",
       "      <td>1</td>\n",
       "      <td>6.0</td>\n",
       "      <td>14.0</td>\n",
       "      <td>15200.0</td>\n",
       "    </tr>\n",
       "    <tr>\n",
       "      <th>2</th>\n",
       "      <td>1000001</td>\n",
       "      <td>P00087842</td>\n",
       "      <td>F</td>\n",
       "      <td>0-17</td>\n",
       "      <td>10</td>\n",
       "      <td>A</td>\n",
       "      <td>2</td>\n",
       "      <td>0</td>\n",
       "      <td>12</td>\n",
       "      <td>NaN</td>\n",
       "      <td>NaN</td>\n",
       "      <td>1422.0</td>\n",
       "    </tr>\n",
       "    <tr>\n",
       "      <th>3</th>\n",
       "      <td>1000001</td>\n",
       "      <td>P00085442</td>\n",
       "      <td>F</td>\n",
       "      <td>0-17</td>\n",
       "      <td>10</td>\n",
       "      <td>A</td>\n",
       "      <td>2</td>\n",
       "      <td>0</td>\n",
       "      <td>12</td>\n",
       "      <td>14.0</td>\n",
       "      <td>NaN</td>\n",
       "      <td>1057.0</td>\n",
       "    </tr>\n",
       "    <tr>\n",
       "      <th>4</th>\n",
       "      <td>1000002</td>\n",
       "      <td>P00285442</td>\n",
       "      <td>M</td>\n",
       "      <td>55+</td>\n",
       "      <td>16</td>\n",
       "      <td>C</td>\n",
       "      <td>4+</td>\n",
       "      <td>0</td>\n",
       "      <td>8</td>\n",
       "      <td>NaN</td>\n",
       "      <td>NaN</td>\n",
       "      <td>7969.0</td>\n",
       "    </tr>\n",
       "  </tbody>\n",
       "</table>\n",
       "</div>"
      ],
      "text/plain": [
       "   User_ID Product_ID Gender   Age  Occupation City_Category  \\\n",
       "0  1000001  P00069042      F  0-17          10             A   \n",
       "1  1000001  P00248942      F  0-17          10             A   \n",
       "2  1000001  P00087842      F  0-17          10             A   \n",
       "3  1000001  P00085442      F  0-17          10             A   \n",
       "4  1000002  P00285442      M   55+          16             C   \n",
       "\n",
       "  Stay_In_Current_City_Years  Marital_Status  Product_Category_1  \\\n",
       "0                          2               0                   3   \n",
       "1                          2               0                   1   \n",
       "2                          2               0                  12   \n",
       "3                          2               0                  12   \n",
       "4                         4+               0                   8   \n",
       "\n",
       "   Product_Category_2  Product_Category_3  Purchase  \n",
       "0                 NaN                 NaN    8370.0  \n",
       "1                 6.0                14.0   15200.0  \n",
       "2                 NaN                 NaN    1422.0  \n",
       "3                14.0                 NaN    1057.0  \n",
       "4                 NaN                 NaN    7969.0  "
      ]
     },
     "execution_count": 6,
     "metadata": {},
     "output_type": "execute_result"
    }
   ],
   "source": [
    "# combine both dataset by using append\n",
    "df=df_train.append(df_test)\n",
    "df.head()"
   ]
  },
  {
   "cell_type": "code",
   "execution_count": 7,
   "id": "2175c0d4",
   "metadata": {},
   "outputs": [
    {
     "name": "stdout",
     "output_type": "stream",
     "text": [
      "<class 'pandas.core.frame.DataFrame'>\n",
      "Int64Index: 783667 entries, 0 to 233598\n",
      "Data columns (total 12 columns):\n",
      " #   Column                      Non-Null Count   Dtype  \n",
      "---  ------                      --------------   -----  \n",
      " 0   User_ID                     783667 non-null  int64  \n",
      " 1   Product_ID                  783667 non-null  object \n",
      " 2   Gender                      783667 non-null  object \n",
      " 3   Age                         783667 non-null  object \n",
      " 4   Occupation                  783667 non-null  int64  \n",
      " 5   City_Category               783667 non-null  object \n",
      " 6   Stay_In_Current_City_Years  783667 non-null  object \n",
      " 7   Marital_Status              783667 non-null  int64  \n",
      " 8   Product_Category_1          783667 non-null  int64  \n",
      " 9   Product_Category_2          537685 non-null  float64\n",
      " 10  Product_Category_3          237858 non-null  float64\n",
      " 11  Purchase                    550068 non-null  float64\n",
      "dtypes: float64(3), int64(4), object(5)\n",
      "memory usage: 77.7+ MB\n"
     ]
    }
   ],
   "source": [
    "# check for datatypes\n",
    "df.info()"
   ]
  },
  {
   "cell_type": "code",
   "execution_count": 8,
   "id": "983cad1e",
   "metadata": {},
   "outputs": [
    {
     "data": {
      "text/html": [
       "<div>\n",
       "<style scoped>\n",
       "    .dataframe tbody tr th:only-of-type {\n",
       "        vertical-align: middle;\n",
       "    }\n",
       "\n",
       "    .dataframe tbody tr th {\n",
       "        vertical-align: top;\n",
       "    }\n",
       "\n",
       "    .dataframe thead th {\n",
       "        text-align: right;\n",
       "    }\n",
       "</style>\n",
       "<table border=\"1\" class=\"dataframe\">\n",
       "  <thead>\n",
       "    <tr style=\"text-align: right;\">\n",
       "      <th></th>\n",
       "      <th>User_ID</th>\n",
       "      <th>Occupation</th>\n",
       "      <th>Marital_Status</th>\n",
       "      <th>Product_Category_1</th>\n",
       "      <th>Product_Category_2</th>\n",
       "      <th>Product_Category_3</th>\n",
       "      <th>Purchase</th>\n",
       "    </tr>\n",
       "  </thead>\n",
       "  <tbody>\n",
       "    <tr>\n",
       "      <th>count</th>\n",
       "      <td>7.836670e+05</td>\n",
       "      <td>783667.000000</td>\n",
       "      <td>783667.000000</td>\n",
       "      <td>783667.000000</td>\n",
       "      <td>537685.000000</td>\n",
       "      <td>237858.000000</td>\n",
       "      <td>550068.000000</td>\n",
       "    </tr>\n",
       "    <tr>\n",
       "      <th>mean</th>\n",
       "      <td>1.003029e+06</td>\n",
       "      <td>8.079300</td>\n",
       "      <td>0.409777</td>\n",
       "      <td>5.366196</td>\n",
       "      <td>9.844506</td>\n",
       "      <td>12.668605</td>\n",
       "      <td>9263.968713</td>\n",
       "    </tr>\n",
       "    <tr>\n",
       "      <th>std</th>\n",
       "      <td>1.727267e+03</td>\n",
       "      <td>6.522206</td>\n",
       "      <td>0.491793</td>\n",
       "      <td>3.878160</td>\n",
       "      <td>5.089093</td>\n",
       "      <td>4.125510</td>\n",
       "      <td>5023.065394</td>\n",
       "    </tr>\n",
       "    <tr>\n",
       "      <th>min</th>\n",
       "      <td>1.000001e+06</td>\n",
       "      <td>0.000000</td>\n",
       "      <td>0.000000</td>\n",
       "      <td>1.000000</td>\n",
       "      <td>2.000000</td>\n",
       "      <td>3.000000</td>\n",
       "      <td>12.000000</td>\n",
       "    </tr>\n",
       "    <tr>\n",
       "      <th>25%</th>\n",
       "      <td>1.001519e+06</td>\n",
       "      <td>2.000000</td>\n",
       "      <td>0.000000</td>\n",
       "      <td>1.000000</td>\n",
       "      <td>5.000000</td>\n",
       "      <td>9.000000</td>\n",
       "      <td>5823.000000</td>\n",
       "    </tr>\n",
       "    <tr>\n",
       "      <th>50%</th>\n",
       "      <td>1.003075e+06</td>\n",
       "      <td>7.000000</td>\n",
       "      <td>0.000000</td>\n",
       "      <td>5.000000</td>\n",
       "      <td>9.000000</td>\n",
       "      <td>14.000000</td>\n",
       "      <td>8047.000000</td>\n",
       "    </tr>\n",
       "    <tr>\n",
       "      <th>75%</th>\n",
       "      <td>1.004478e+06</td>\n",
       "      <td>14.000000</td>\n",
       "      <td>1.000000</td>\n",
       "      <td>8.000000</td>\n",
       "      <td>15.000000</td>\n",
       "      <td>16.000000</td>\n",
       "      <td>12054.000000</td>\n",
       "    </tr>\n",
       "    <tr>\n",
       "      <th>max</th>\n",
       "      <td>1.006040e+06</td>\n",
       "      <td>20.000000</td>\n",
       "      <td>1.000000</td>\n",
       "      <td>20.000000</td>\n",
       "      <td>18.000000</td>\n",
       "      <td>18.000000</td>\n",
       "      <td>23961.000000</td>\n",
       "    </tr>\n",
       "  </tbody>\n",
       "</table>\n",
       "</div>"
      ],
      "text/plain": [
       "            User_ID     Occupation  Marital_Status  Product_Category_1  \\\n",
       "count  7.836670e+05  783667.000000   783667.000000       783667.000000   \n",
       "mean   1.003029e+06       8.079300        0.409777            5.366196   \n",
       "std    1.727267e+03       6.522206        0.491793            3.878160   \n",
       "min    1.000001e+06       0.000000        0.000000            1.000000   \n",
       "25%    1.001519e+06       2.000000        0.000000            1.000000   \n",
       "50%    1.003075e+06       7.000000        0.000000            5.000000   \n",
       "75%    1.004478e+06      14.000000        1.000000            8.000000   \n",
       "max    1.006040e+06      20.000000        1.000000           20.000000   \n",
       "\n",
       "       Product_Category_2  Product_Category_3       Purchase  \n",
       "count       537685.000000       237858.000000  550068.000000  \n",
       "mean             9.844506           12.668605    9263.968713  \n",
       "std              5.089093            4.125510    5023.065394  \n",
       "min              2.000000            3.000000      12.000000  \n",
       "25%              5.000000            9.000000    5823.000000  \n",
       "50%              9.000000           14.000000    8047.000000  \n",
       "75%             15.000000           16.000000   12054.000000  \n",
       "max             18.000000           18.000000   23961.000000  "
      ]
     },
     "execution_count": 8,
     "metadata": {},
     "output_type": "execute_result"
    }
   ],
   "source": [
    "# what is % values\n",
    "df.describe()"
   ]
  },
  {
   "cell_type": "code",
   "execution_count": 9,
   "id": "4a6b4708",
   "metadata": {},
   "outputs": [],
   "source": [
    "# drop userID because not use of it\n",
    "df.drop(['User_ID'],axis=1,inplace=True)"
   ]
  },
  {
   "cell_type": "code",
   "execution_count": 10,
   "id": "d888eb54",
   "metadata": {},
   "outputs": [
    {
     "data": {
      "text/html": [
       "<div>\n",
       "<style scoped>\n",
       "    .dataframe tbody tr th:only-of-type {\n",
       "        vertical-align: middle;\n",
       "    }\n",
       "\n",
       "    .dataframe tbody tr th {\n",
       "        vertical-align: top;\n",
       "    }\n",
       "\n",
       "    .dataframe thead th {\n",
       "        text-align: right;\n",
       "    }\n",
       "</style>\n",
       "<table border=\"1\" class=\"dataframe\">\n",
       "  <thead>\n",
       "    <tr style=\"text-align: right;\">\n",
       "      <th></th>\n",
       "      <th>Product_ID</th>\n",
       "      <th>Gender</th>\n",
       "      <th>Age</th>\n",
       "      <th>Occupation</th>\n",
       "      <th>City_Category</th>\n",
       "      <th>Stay_In_Current_City_Years</th>\n",
       "      <th>Marital_Status</th>\n",
       "      <th>Product_Category_1</th>\n",
       "      <th>Product_Category_2</th>\n",
       "      <th>Product_Category_3</th>\n",
       "      <th>Purchase</th>\n",
       "    </tr>\n",
       "  </thead>\n",
       "  <tbody>\n",
       "    <tr>\n",
       "      <th>0</th>\n",
       "      <td>P00069042</td>\n",
       "      <td>F</td>\n",
       "      <td>0-17</td>\n",
       "      <td>10</td>\n",
       "      <td>A</td>\n",
       "      <td>2</td>\n",
       "      <td>0</td>\n",
       "      <td>3</td>\n",
       "      <td>NaN</td>\n",
       "      <td>NaN</td>\n",
       "      <td>8370.0</td>\n",
       "    </tr>\n",
       "    <tr>\n",
       "      <th>1</th>\n",
       "      <td>P00248942</td>\n",
       "      <td>F</td>\n",
       "      <td>0-17</td>\n",
       "      <td>10</td>\n",
       "      <td>A</td>\n",
       "      <td>2</td>\n",
       "      <td>0</td>\n",
       "      <td>1</td>\n",
       "      <td>6.0</td>\n",
       "      <td>14.0</td>\n",
       "      <td>15200.0</td>\n",
       "    </tr>\n",
       "    <tr>\n",
       "      <th>2</th>\n",
       "      <td>P00087842</td>\n",
       "      <td>F</td>\n",
       "      <td>0-17</td>\n",
       "      <td>10</td>\n",
       "      <td>A</td>\n",
       "      <td>2</td>\n",
       "      <td>0</td>\n",
       "      <td>12</td>\n",
       "      <td>NaN</td>\n",
       "      <td>NaN</td>\n",
       "      <td>1422.0</td>\n",
       "    </tr>\n",
       "    <tr>\n",
       "      <th>3</th>\n",
       "      <td>P00085442</td>\n",
       "      <td>F</td>\n",
       "      <td>0-17</td>\n",
       "      <td>10</td>\n",
       "      <td>A</td>\n",
       "      <td>2</td>\n",
       "      <td>0</td>\n",
       "      <td>12</td>\n",
       "      <td>14.0</td>\n",
       "      <td>NaN</td>\n",
       "      <td>1057.0</td>\n",
       "    </tr>\n",
       "    <tr>\n",
       "      <th>4</th>\n",
       "      <td>P00285442</td>\n",
       "      <td>M</td>\n",
       "      <td>55+</td>\n",
       "      <td>16</td>\n",
       "      <td>C</td>\n",
       "      <td>4+</td>\n",
       "      <td>0</td>\n",
       "      <td>8</td>\n",
       "      <td>NaN</td>\n",
       "      <td>NaN</td>\n",
       "      <td>7969.0</td>\n",
       "    </tr>\n",
       "  </tbody>\n",
       "</table>\n",
       "</div>"
      ],
      "text/plain": [
       "  Product_ID Gender   Age  Occupation City_Category  \\\n",
       "0  P00069042      F  0-17          10             A   \n",
       "1  P00248942      F  0-17          10             A   \n",
       "2  P00087842      F  0-17          10             A   \n",
       "3  P00085442      F  0-17          10             A   \n",
       "4  P00285442      M   55+          16             C   \n",
       "\n",
       "  Stay_In_Current_City_Years  Marital_Status  Product_Category_1  \\\n",
       "0                          2               0                   3   \n",
       "1                          2               0                   1   \n",
       "2                          2               0                  12   \n",
       "3                          2               0                  12   \n",
       "4                         4+               0                   8   \n",
       "\n",
       "   Product_Category_2  Product_Category_3  Purchase  \n",
       "0                 NaN                 NaN    8370.0  \n",
       "1                 6.0                14.0   15200.0  \n",
       "2                 NaN                 NaN    1422.0  \n",
       "3                14.0                 NaN    1057.0  \n",
       "4                 NaN                 NaN    7969.0  "
      ]
     },
     "execution_count": 10,
     "metadata": {},
     "output_type": "execute_result"
    }
   ],
   "source": [
    "df.head()"
   ]
  },
  {
   "cell_type": "code",
   "execution_count": 11,
   "id": "5ce59bcf",
   "metadata": {},
   "outputs": [
    {
     "data": {
      "text/html": [
       "<div>\n",
       "<style scoped>\n",
       "    .dataframe tbody tr th:only-of-type {\n",
       "        vertical-align: middle;\n",
       "    }\n",
       "\n",
       "    .dataframe tbody tr th {\n",
       "        vertical-align: top;\n",
       "    }\n",
       "\n",
       "    .dataframe thead th {\n",
       "        text-align: right;\n",
       "    }\n",
       "</style>\n",
       "<table border=\"1\" class=\"dataframe\">\n",
       "  <thead>\n",
       "    <tr style=\"text-align: right;\">\n",
       "      <th></th>\n",
       "      <th>Product_ID</th>\n",
       "      <th>Gender</th>\n",
       "      <th>Age</th>\n",
       "      <th>Occupation</th>\n",
       "      <th>City_Category</th>\n",
       "      <th>Stay_In_Current_City_Years</th>\n",
       "      <th>Marital_Status</th>\n",
       "      <th>Product_Category_1</th>\n",
       "      <th>Product_Category_2</th>\n",
       "      <th>Product_Category_3</th>\n",
       "      <th>Purchase</th>\n",
       "    </tr>\n",
       "  </thead>\n",
       "  <tbody>\n",
       "    <tr>\n",
       "      <th>0</th>\n",
       "      <td>P00069042</td>\n",
       "      <td>0</td>\n",
       "      <td>0-17</td>\n",
       "      <td>10</td>\n",
       "      <td>A</td>\n",
       "      <td>2</td>\n",
       "      <td>0</td>\n",
       "      <td>3</td>\n",
       "      <td>NaN</td>\n",
       "      <td>NaN</td>\n",
       "      <td>8370.0</td>\n",
       "    </tr>\n",
       "    <tr>\n",
       "      <th>1</th>\n",
       "      <td>P00248942</td>\n",
       "      <td>0</td>\n",
       "      <td>0-17</td>\n",
       "      <td>10</td>\n",
       "      <td>A</td>\n",
       "      <td>2</td>\n",
       "      <td>0</td>\n",
       "      <td>1</td>\n",
       "      <td>6.0</td>\n",
       "      <td>14.0</td>\n",
       "      <td>15200.0</td>\n",
       "    </tr>\n",
       "    <tr>\n",
       "      <th>2</th>\n",
       "      <td>P00087842</td>\n",
       "      <td>0</td>\n",
       "      <td>0-17</td>\n",
       "      <td>10</td>\n",
       "      <td>A</td>\n",
       "      <td>2</td>\n",
       "      <td>0</td>\n",
       "      <td>12</td>\n",
       "      <td>NaN</td>\n",
       "      <td>NaN</td>\n",
       "      <td>1422.0</td>\n",
       "    </tr>\n",
       "    <tr>\n",
       "      <th>3</th>\n",
       "      <td>P00085442</td>\n",
       "      <td>0</td>\n",
       "      <td>0-17</td>\n",
       "      <td>10</td>\n",
       "      <td>A</td>\n",
       "      <td>2</td>\n",
       "      <td>0</td>\n",
       "      <td>12</td>\n",
       "      <td>14.0</td>\n",
       "      <td>NaN</td>\n",
       "      <td>1057.0</td>\n",
       "    </tr>\n",
       "    <tr>\n",
       "      <th>4</th>\n",
       "      <td>P00285442</td>\n",
       "      <td>1</td>\n",
       "      <td>55+</td>\n",
       "      <td>16</td>\n",
       "      <td>C</td>\n",
       "      <td>4+</td>\n",
       "      <td>0</td>\n",
       "      <td>8</td>\n",
       "      <td>NaN</td>\n",
       "      <td>NaN</td>\n",
       "      <td>7969.0</td>\n",
       "    </tr>\n",
       "  </tbody>\n",
       "</table>\n",
       "</div>"
      ],
      "text/plain": [
       "  Product_ID  Gender   Age  Occupation City_Category  \\\n",
       "0  P00069042       0  0-17          10             A   \n",
       "1  P00248942       0  0-17          10             A   \n",
       "2  P00087842       0  0-17          10             A   \n",
       "3  P00085442       0  0-17          10             A   \n",
       "4  P00285442       1   55+          16             C   \n",
       "\n",
       "  Stay_In_Current_City_Years  Marital_Status  Product_Category_1  \\\n",
       "0                          2               0                   3   \n",
       "1                          2               0                   1   \n",
       "2                          2               0                  12   \n",
       "3                          2               0                  12   \n",
       "4                         4+               0                   8   \n",
       "\n",
       "   Product_Category_2  Product_Category_3  Purchase  \n",
       "0                 NaN                 NaN    8370.0  \n",
       "1                 6.0                14.0   15200.0  \n",
       "2                 NaN                 NaN    1422.0  \n",
       "3                14.0                 NaN    1057.0  \n",
       "4                 NaN                 NaN    7969.0  "
      ]
     },
     "execution_count": 11,
     "metadata": {},
     "output_type": "execute_result"
    }
   ],
   "source": [
    "#mapping for converting gender to numeric\n",
    "df['Gender']=df['Gender'].map({'F':0,'M':1})\n",
    "df.head()"
   ]
  },
  {
   "cell_type": "code",
   "execution_count": 12,
   "id": "a993a11d",
   "metadata": {},
   "outputs": [
    {
     "data": {
      "text/plain": [
       "array(['0-17', '55+', '26-35', '46-50', '51-55', '36-45', '18-25'],\n",
       "      dtype=object)"
      ]
     },
     "execution_count": 12,
     "metadata": {},
     "output_type": "execute_result"
    }
   ],
   "source": [
    "# handle categorical feature age\n",
    "df['Age'].unique()"
   ]
  },
  {
   "cell_type": "code",
   "execution_count": 13,
   "id": "cdc5d523",
   "metadata": {},
   "outputs": [],
   "source": [
    "from sklearn import preprocessing\n",
    " \n",
    "# label_encoder object knows how to understand word labels.\n",
    "label_encoder = preprocessing.LabelEncoder()\n",
    " \n",
    "# Encode labels in column 'species'.\n",
    "df['Age']= label_encoder.fit_transform(df['Age'])\n",
    " \n"
   ]
  },
  {
   "cell_type": "code",
   "execution_count": 14,
   "id": "ef71c604",
   "metadata": {},
   "outputs": [
    {
     "data": {
      "text/html": [
       "<div>\n",
       "<style scoped>\n",
       "    .dataframe tbody tr th:only-of-type {\n",
       "        vertical-align: middle;\n",
       "    }\n",
       "\n",
       "    .dataframe tbody tr th {\n",
       "        vertical-align: top;\n",
       "    }\n",
       "\n",
       "    .dataframe thead th {\n",
       "        text-align: right;\n",
       "    }\n",
       "</style>\n",
       "<table border=\"1\" class=\"dataframe\">\n",
       "  <thead>\n",
       "    <tr style=\"text-align: right;\">\n",
       "      <th></th>\n",
       "      <th>Product_ID</th>\n",
       "      <th>Gender</th>\n",
       "      <th>Age</th>\n",
       "      <th>Occupation</th>\n",
       "      <th>City_Category</th>\n",
       "      <th>Stay_In_Current_City_Years</th>\n",
       "      <th>Marital_Status</th>\n",
       "      <th>Product_Category_1</th>\n",
       "      <th>Product_Category_2</th>\n",
       "      <th>Product_Category_3</th>\n",
       "      <th>Purchase</th>\n",
       "    </tr>\n",
       "  </thead>\n",
       "  <tbody>\n",
       "    <tr>\n",
       "      <th>0</th>\n",
       "      <td>P00069042</td>\n",
       "      <td>0</td>\n",
       "      <td>0</td>\n",
       "      <td>10</td>\n",
       "      <td>A</td>\n",
       "      <td>2</td>\n",
       "      <td>0</td>\n",
       "      <td>3</td>\n",
       "      <td>NaN</td>\n",
       "      <td>NaN</td>\n",
       "      <td>8370.0</td>\n",
       "    </tr>\n",
       "    <tr>\n",
       "      <th>1</th>\n",
       "      <td>P00248942</td>\n",
       "      <td>0</td>\n",
       "      <td>0</td>\n",
       "      <td>10</td>\n",
       "      <td>A</td>\n",
       "      <td>2</td>\n",
       "      <td>0</td>\n",
       "      <td>1</td>\n",
       "      <td>6.0</td>\n",
       "      <td>14.0</td>\n",
       "      <td>15200.0</td>\n",
       "    </tr>\n",
       "    <tr>\n",
       "      <th>2</th>\n",
       "      <td>P00087842</td>\n",
       "      <td>0</td>\n",
       "      <td>0</td>\n",
       "      <td>10</td>\n",
       "      <td>A</td>\n",
       "      <td>2</td>\n",
       "      <td>0</td>\n",
       "      <td>12</td>\n",
       "      <td>NaN</td>\n",
       "      <td>NaN</td>\n",
       "      <td>1422.0</td>\n",
       "    </tr>\n",
       "    <tr>\n",
       "      <th>3</th>\n",
       "      <td>P00085442</td>\n",
       "      <td>0</td>\n",
       "      <td>0</td>\n",
       "      <td>10</td>\n",
       "      <td>A</td>\n",
       "      <td>2</td>\n",
       "      <td>0</td>\n",
       "      <td>12</td>\n",
       "      <td>14.0</td>\n",
       "      <td>NaN</td>\n",
       "      <td>1057.0</td>\n",
       "    </tr>\n",
       "    <tr>\n",
       "      <th>4</th>\n",
       "      <td>P00285442</td>\n",
       "      <td>1</td>\n",
       "      <td>6</td>\n",
       "      <td>16</td>\n",
       "      <td>C</td>\n",
       "      <td>4+</td>\n",
       "      <td>0</td>\n",
       "      <td>8</td>\n",
       "      <td>NaN</td>\n",
       "      <td>NaN</td>\n",
       "      <td>7969.0</td>\n",
       "    </tr>\n",
       "  </tbody>\n",
       "</table>\n",
       "</div>"
      ],
      "text/plain": [
       "  Product_ID  Gender  Age  Occupation City_Category  \\\n",
       "0  P00069042       0    0          10             A   \n",
       "1  P00248942       0    0          10             A   \n",
       "2  P00087842       0    0          10             A   \n",
       "3  P00085442       0    0          10             A   \n",
       "4  P00285442       1    6          16             C   \n",
       "\n",
       "  Stay_In_Current_City_Years  Marital_Status  Product_Category_1  \\\n",
       "0                          2               0                   3   \n",
       "1                          2               0                   1   \n",
       "2                          2               0                  12   \n",
       "3                          2               0                  12   \n",
       "4                         4+               0                   8   \n",
       "\n",
       "   Product_Category_2  Product_Category_3  Purchase  \n",
       "0                 NaN                 NaN    8370.0  \n",
       "1                 6.0                14.0   15200.0  \n",
       "2                 NaN                 NaN    1422.0  \n",
       "3                14.0                 NaN    1057.0  \n",
       "4                 NaN                 NaN    7969.0  "
      ]
     },
     "execution_count": 14,
     "metadata": {},
     "output_type": "execute_result"
    }
   ],
   "source": [
    "df.head()"
   ]
  },
  {
   "cell_type": "code",
   "execution_count": 15,
   "id": "bf5f7683",
   "metadata": {},
   "outputs": [
    {
     "data": {
      "text/plain": [
       "array([0, 6, 2, 4, 5, 3, 1])"
      ]
     },
     "execution_count": 15,
     "metadata": {},
     "output_type": "execute_result"
    }
   ],
   "source": [
    "df['Age'].unique()"
   ]
  },
  {
   "cell_type": "code",
   "execution_count": 16,
   "id": "7c29fc8d",
   "metadata": {},
   "outputs": [
    {
     "data": {
      "text/html": [
       "<div>\n",
       "<style scoped>\n",
       "    .dataframe tbody tr th:only-of-type {\n",
       "        vertical-align: middle;\n",
       "    }\n",
       "\n",
       "    .dataframe tbody tr th {\n",
       "        vertical-align: top;\n",
       "    }\n",
       "\n",
       "    .dataframe thead th {\n",
       "        text-align: right;\n",
       "    }\n",
       "</style>\n",
       "<table border=\"1\" class=\"dataframe\">\n",
       "  <thead>\n",
       "    <tr style=\"text-align: right;\">\n",
       "      <th></th>\n",
       "      <th>B</th>\n",
       "      <th>C</th>\n",
       "    </tr>\n",
       "  </thead>\n",
       "  <tbody>\n",
       "    <tr>\n",
       "      <th>0</th>\n",
       "      <td>0</td>\n",
       "      <td>0</td>\n",
       "    </tr>\n",
       "    <tr>\n",
       "      <th>1</th>\n",
       "      <td>0</td>\n",
       "      <td>0</td>\n",
       "    </tr>\n",
       "    <tr>\n",
       "      <th>2</th>\n",
       "      <td>0</td>\n",
       "      <td>0</td>\n",
       "    </tr>\n",
       "    <tr>\n",
       "      <th>3</th>\n",
       "      <td>0</td>\n",
       "      <td>0</td>\n",
       "    </tr>\n",
       "    <tr>\n",
       "      <th>4</th>\n",
       "      <td>0</td>\n",
       "      <td>1</td>\n",
       "    </tr>\n",
       "    <tr>\n",
       "      <th>...</th>\n",
       "      <td>...</td>\n",
       "      <td>...</td>\n",
       "    </tr>\n",
       "    <tr>\n",
       "      <th>233594</th>\n",
       "      <td>1</td>\n",
       "      <td>0</td>\n",
       "    </tr>\n",
       "    <tr>\n",
       "      <th>233595</th>\n",
       "      <td>1</td>\n",
       "      <td>0</td>\n",
       "    </tr>\n",
       "    <tr>\n",
       "      <th>233596</th>\n",
       "      <td>1</td>\n",
       "      <td>0</td>\n",
       "    </tr>\n",
       "    <tr>\n",
       "      <th>233597</th>\n",
       "      <td>0</td>\n",
       "      <td>1</td>\n",
       "    </tr>\n",
       "    <tr>\n",
       "      <th>233598</th>\n",
       "      <td>1</td>\n",
       "      <td>0</td>\n",
       "    </tr>\n",
       "  </tbody>\n",
       "</table>\n",
       "<p>783667 rows × 2 columns</p>\n",
       "</div>"
      ],
      "text/plain": [
       "        B  C\n",
       "0       0  0\n",
       "1       0  0\n",
       "2       0  0\n",
       "3       0  0\n",
       "4       0  1\n",
       "...    .. ..\n",
       "233594  1  0\n",
       "233595  1  0\n",
       "233596  1  0\n",
       "233597  0  1\n",
       "233598  1  0\n",
       "\n",
       "[783667 rows x 2 columns]"
      ]
     },
     "execution_count": 16,
     "metadata": {},
     "output_type": "execute_result"
    }
   ],
   "source": [
    "#fixing categorical City_categort\n",
    "df_city=pd.get_dummies(df['City_Category'],drop_first=True)\n",
    "df_city"
   ]
  },
  {
   "cell_type": "code",
   "execution_count": 17,
   "id": "d7877e1b",
   "metadata": {},
   "outputs": [
    {
     "data": {
      "text/html": [
       "<div>\n",
       "<style scoped>\n",
       "    .dataframe tbody tr th:only-of-type {\n",
       "        vertical-align: middle;\n",
       "    }\n",
       "\n",
       "    .dataframe tbody tr th {\n",
       "        vertical-align: top;\n",
       "    }\n",
       "\n",
       "    .dataframe thead th {\n",
       "        text-align: right;\n",
       "    }\n",
       "</style>\n",
       "<table border=\"1\" class=\"dataframe\">\n",
       "  <thead>\n",
       "    <tr style=\"text-align: right;\">\n",
       "      <th></th>\n",
       "      <th>Product_ID</th>\n",
       "      <th>Gender</th>\n",
       "      <th>Age</th>\n",
       "      <th>Occupation</th>\n",
       "      <th>City_Category</th>\n",
       "      <th>Stay_In_Current_City_Years</th>\n",
       "      <th>Marital_Status</th>\n",
       "      <th>Product_Category_1</th>\n",
       "      <th>Product_Category_2</th>\n",
       "      <th>Product_Category_3</th>\n",
       "      <th>Purchase</th>\n",
       "      <th>B</th>\n",
       "      <th>C</th>\n",
       "    </tr>\n",
       "  </thead>\n",
       "  <tbody>\n",
       "    <tr>\n",
       "      <th>0</th>\n",
       "      <td>P00069042</td>\n",
       "      <td>0</td>\n",
       "      <td>0</td>\n",
       "      <td>10</td>\n",
       "      <td>A</td>\n",
       "      <td>2</td>\n",
       "      <td>0</td>\n",
       "      <td>3</td>\n",
       "      <td>NaN</td>\n",
       "      <td>NaN</td>\n",
       "      <td>8370.0</td>\n",
       "      <td>0</td>\n",
       "      <td>0</td>\n",
       "    </tr>\n",
       "    <tr>\n",
       "      <th>1</th>\n",
       "      <td>P00248942</td>\n",
       "      <td>0</td>\n",
       "      <td>0</td>\n",
       "      <td>10</td>\n",
       "      <td>A</td>\n",
       "      <td>2</td>\n",
       "      <td>0</td>\n",
       "      <td>1</td>\n",
       "      <td>6.0</td>\n",
       "      <td>14.0</td>\n",
       "      <td>15200.0</td>\n",
       "      <td>0</td>\n",
       "      <td>0</td>\n",
       "    </tr>\n",
       "    <tr>\n",
       "      <th>2</th>\n",
       "      <td>P00087842</td>\n",
       "      <td>0</td>\n",
       "      <td>0</td>\n",
       "      <td>10</td>\n",
       "      <td>A</td>\n",
       "      <td>2</td>\n",
       "      <td>0</td>\n",
       "      <td>12</td>\n",
       "      <td>NaN</td>\n",
       "      <td>NaN</td>\n",
       "      <td>1422.0</td>\n",
       "      <td>0</td>\n",
       "      <td>0</td>\n",
       "    </tr>\n",
       "    <tr>\n",
       "      <th>3</th>\n",
       "      <td>P00085442</td>\n",
       "      <td>0</td>\n",
       "      <td>0</td>\n",
       "      <td>10</td>\n",
       "      <td>A</td>\n",
       "      <td>2</td>\n",
       "      <td>0</td>\n",
       "      <td>12</td>\n",
       "      <td>14.0</td>\n",
       "      <td>NaN</td>\n",
       "      <td>1057.0</td>\n",
       "      <td>0</td>\n",
       "      <td>0</td>\n",
       "    </tr>\n",
       "    <tr>\n",
       "      <th>4</th>\n",
       "      <td>P00285442</td>\n",
       "      <td>1</td>\n",
       "      <td>6</td>\n",
       "      <td>16</td>\n",
       "      <td>C</td>\n",
       "      <td>4+</td>\n",
       "      <td>0</td>\n",
       "      <td>8</td>\n",
       "      <td>NaN</td>\n",
       "      <td>NaN</td>\n",
       "      <td>7969.0</td>\n",
       "      <td>0</td>\n",
       "      <td>1</td>\n",
       "    </tr>\n",
       "  </tbody>\n",
       "</table>\n",
       "</div>"
      ],
      "text/plain": [
       "  Product_ID  Gender  Age  Occupation City_Category  \\\n",
       "0  P00069042       0    0          10             A   \n",
       "1  P00248942       0    0          10             A   \n",
       "2  P00087842       0    0          10             A   \n",
       "3  P00085442       0    0          10             A   \n",
       "4  P00285442       1    6          16             C   \n",
       "\n",
       "  Stay_In_Current_City_Years  Marital_Status  Product_Category_1  \\\n",
       "0                          2               0                   3   \n",
       "1                          2               0                   1   \n",
       "2                          2               0                  12   \n",
       "3                          2               0                  12   \n",
       "4                         4+               0                   8   \n",
       "\n",
       "   Product_Category_2  Product_Category_3  Purchase  B  C  \n",
       "0                 NaN                 NaN    8370.0  0  0  \n",
       "1                 6.0                14.0   15200.0  0  0  \n",
       "2                 NaN                 NaN    1422.0  0  0  \n",
       "3                14.0                 NaN    1057.0  0  0  \n",
       "4                 NaN                 NaN    7969.0  0  1  "
      ]
     },
     "execution_count": 17,
     "metadata": {},
     "output_type": "execute_result"
    }
   ],
   "source": [
    "# combining two df and df_city table\n",
    "df=pd.concat([df,df_city],axis=1)\n",
    "df.head()"
   ]
  },
  {
   "cell_type": "code",
   "execution_count": 18,
   "id": "d9551061",
   "metadata": {},
   "outputs": [
    {
     "data": {
      "text/html": [
       "<div>\n",
       "<style scoped>\n",
       "    .dataframe tbody tr th:only-of-type {\n",
       "        vertical-align: middle;\n",
       "    }\n",
       "\n",
       "    .dataframe tbody tr th {\n",
       "        vertical-align: top;\n",
       "    }\n",
       "\n",
       "    .dataframe thead th {\n",
       "        text-align: right;\n",
       "    }\n",
       "</style>\n",
       "<table border=\"1\" class=\"dataframe\">\n",
       "  <thead>\n",
       "    <tr style=\"text-align: right;\">\n",
       "      <th></th>\n",
       "      <th>Product_ID</th>\n",
       "      <th>Gender</th>\n",
       "      <th>Age</th>\n",
       "      <th>Occupation</th>\n",
       "      <th>Stay_In_Current_City_Years</th>\n",
       "      <th>Marital_Status</th>\n",
       "      <th>Product_Category_1</th>\n",
       "      <th>Product_Category_2</th>\n",
       "      <th>Product_Category_3</th>\n",
       "      <th>Purchase</th>\n",
       "      <th>B</th>\n",
       "      <th>C</th>\n",
       "    </tr>\n",
       "  </thead>\n",
       "  <tbody>\n",
       "    <tr>\n",
       "      <th>0</th>\n",
       "      <td>P00069042</td>\n",
       "      <td>0</td>\n",
       "      <td>0</td>\n",
       "      <td>10</td>\n",
       "      <td>2</td>\n",
       "      <td>0</td>\n",
       "      <td>3</td>\n",
       "      <td>NaN</td>\n",
       "      <td>NaN</td>\n",
       "      <td>8370.0</td>\n",
       "      <td>0</td>\n",
       "      <td>0</td>\n",
       "    </tr>\n",
       "    <tr>\n",
       "      <th>1</th>\n",
       "      <td>P00248942</td>\n",
       "      <td>0</td>\n",
       "      <td>0</td>\n",
       "      <td>10</td>\n",
       "      <td>2</td>\n",
       "      <td>0</td>\n",
       "      <td>1</td>\n",
       "      <td>6.0</td>\n",
       "      <td>14.0</td>\n",
       "      <td>15200.0</td>\n",
       "      <td>0</td>\n",
       "      <td>0</td>\n",
       "    </tr>\n",
       "    <tr>\n",
       "      <th>2</th>\n",
       "      <td>P00087842</td>\n",
       "      <td>0</td>\n",
       "      <td>0</td>\n",
       "      <td>10</td>\n",
       "      <td>2</td>\n",
       "      <td>0</td>\n",
       "      <td>12</td>\n",
       "      <td>NaN</td>\n",
       "      <td>NaN</td>\n",
       "      <td>1422.0</td>\n",
       "      <td>0</td>\n",
       "      <td>0</td>\n",
       "    </tr>\n",
       "    <tr>\n",
       "      <th>3</th>\n",
       "      <td>P00085442</td>\n",
       "      <td>0</td>\n",
       "      <td>0</td>\n",
       "      <td>10</td>\n",
       "      <td>2</td>\n",
       "      <td>0</td>\n",
       "      <td>12</td>\n",
       "      <td>14.0</td>\n",
       "      <td>NaN</td>\n",
       "      <td>1057.0</td>\n",
       "      <td>0</td>\n",
       "      <td>0</td>\n",
       "    </tr>\n",
       "    <tr>\n",
       "      <th>4</th>\n",
       "      <td>P00285442</td>\n",
       "      <td>1</td>\n",
       "      <td>6</td>\n",
       "      <td>16</td>\n",
       "      <td>4+</td>\n",
       "      <td>0</td>\n",
       "      <td>8</td>\n",
       "      <td>NaN</td>\n",
       "      <td>NaN</td>\n",
       "      <td>7969.0</td>\n",
       "      <td>0</td>\n",
       "      <td>1</td>\n",
       "    </tr>\n",
       "  </tbody>\n",
       "</table>\n",
       "</div>"
      ],
      "text/plain": [
       "  Product_ID  Gender  Age  Occupation Stay_In_Current_City_Years  \\\n",
       "0  P00069042       0    0          10                          2   \n",
       "1  P00248942       0    0          10                          2   \n",
       "2  P00087842       0    0          10                          2   \n",
       "3  P00085442       0    0          10                          2   \n",
       "4  P00285442       1    6          16                         4+   \n",
       "\n",
       "   Marital_Status  Product_Category_1  Product_Category_2  Product_Category_3  \\\n",
       "0               0                   3                 NaN                 NaN   \n",
       "1               0                   1                 6.0                14.0   \n",
       "2               0                  12                 NaN                 NaN   \n",
       "3               0                  12                14.0                 NaN   \n",
       "4               0                   8                 NaN                 NaN   \n",
       "\n",
       "   Purchase  B  C  \n",
       "0    8370.0  0  0  \n",
       "1   15200.0  0  0  \n",
       "2    1422.0  0  0  \n",
       "3    1057.0  0  0  \n",
       "4    7969.0  0  1  "
      ]
     },
     "execution_count": 18,
     "metadata": {},
     "output_type": "execute_result"
    }
   ],
   "source": [
    "# drop city_category\n",
    "df.drop('City_Category',axis=1,inplace=True)\n",
    "df.head()"
   ]
  },
  {
   "cell_type": "code",
   "execution_count": 19,
   "id": "03c25b05",
   "metadata": {},
   "outputs": [
    {
     "data": {
      "text/plain": [
       "Product_ID                         0\n",
       "Gender                             0\n",
       "Age                                0\n",
       "Occupation                         0\n",
       "Stay_In_Current_City_Years         0\n",
       "Marital_Status                     0\n",
       "Product_Category_1                 0\n",
       "Product_Category_2            245982\n",
       "Product_Category_3            545809\n",
       "Purchase                      233599\n",
       "B                                  0\n",
       "C                                  0\n",
       "dtype: int64"
      ]
     },
     "execution_count": 19,
     "metadata": {},
     "output_type": "execute_result"
    }
   ],
   "source": [
    "#missing values\n",
    "df.isnull().sum()"
   ]
  },
  {
   "cell_type": "code",
   "execution_count": 20,
   "id": "be3b3864",
   "metadata": {},
   "outputs": [
    {
     "data": {
      "text/plain": [
       "array([nan,  6., 14.,  2.,  8., 15., 16., 11.,  5.,  3.,  4., 12.,  9.,\n",
       "       10., 17., 13.,  7., 18.])"
      ]
     },
     "execution_count": 20,
     "metadata": {},
     "output_type": "execute_result"
    }
   ],
   "source": [
    "# replacing missing values\n",
    "df['Product_Category_2'].unique()\n"
   ]
  },
  {
   "cell_type": "code",
   "execution_count": 21,
   "id": "832df83b",
   "metadata": {},
   "outputs": [
    {
     "data": {
      "text/plain": [
       "8.0     91317\n",
       "14.0    78834\n",
       "2.0     70498\n",
       "16.0    61687\n",
       "15.0    54114\n",
       "5.0     37165\n",
       "4.0     36705\n",
       "6.0     23575\n",
       "11.0    20230\n",
       "17.0    19104\n",
       "13.0    15054\n",
       "9.0      8177\n",
       "12.0     7801\n",
       "10.0     4420\n",
       "3.0      4123\n",
       "18.0     4027\n",
       "7.0       854\n",
       "Name: Product_Category_2, dtype: int64"
      ]
     },
     "execution_count": 21,
     "metadata": {},
     "output_type": "execute_result"
    }
   ],
   "source": [
    "df['Product_Category_2'].value_counts()"
   ]
  },
  {
   "cell_type": "code",
   "execution_count": 22,
   "id": "eafd9809",
   "metadata": {},
   "outputs": [
    {
     "data": {
      "text/plain": [
       "8.0"
      ]
     },
     "execution_count": 22,
     "metadata": {},
     "output_type": "execute_result"
    }
   ],
   "source": [
    "# check the mode values\n",
    "df['Product_Category_2'].mode()[0]"
   ]
  },
  {
   "cell_type": "code",
   "execution_count": 23,
   "id": "ba6d5738",
   "metadata": {},
   "outputs": [],
   "source": [
    "df['Product_Category_2']=df['Product_Category_2'].fillna(df['Product_Category_2'].mode()[0])\n",
    "# mode use because values are Discrete values not Continuous values\n"
   ]
  },
  {
   "cell_type": "code",
   "execution_count": 24,
   "id": "600bf227",
   "metadata": {},
   "outputs": [
    {
     "data": {
      "text/plain": [
       "0"
      ]
     },
     "execution_count": 24,
     "metadata": {},
     "output_type": "execute_result"
    }
   ],
   "source": [
    "# check null value in 'Product_Category_2'\n",
    "df['Product_Category_2'].isnull().sum()"
   ]
  },
  {
   "cell_type": "code",
   "execution_count": 25,
   "id": "097bdca5",
   "metadata": {},
   "outputs": [
    {
     "data": {
      "text/plain": [
       "array([nan, 14., 17.,  5.,  4., 16., 15.,  8.,  9., 13.,  6., 12.,  3.,\n",
       "       18., 11., 10.])"
      ]
     },
     "execution_count": 25,
     "metadata": {},
     "output_type": "execute_result"
    }
   ],
   "source": [
    "# replacing missing values\n",
    "df['Product_Category_3'].unique()"
   ]
  },
  {
   "cell_type": "code",
   "execution_count": 26,
   "id": "80a53cb9",
   "metadata": {},
   "outputs": [
    {
     "data": {
      "text/plain": [
       "16.0    46469\n",
       "15.0    39968\n",
       "14.0    26283\n",
       "17.0    23818\n",
       "5.0     23799\n",
       "8.0     17861\n",
       "9.0     16532\n",
       "12.0    13115\n",
       "13.0     7849\n",
       "6.0      6888\n",
       "18.0     6621\n",
       "4.0      2691\n",
       "11.0     2585\n",
       "10.0     2501\n",
       "3.0       878\n",
       "Name: Product_Category_3, dtype: int64"
      ]
     },
     "execution_count": 26,
     "metadata": {},
     "output_type": "execute_result"
    }
   ],
   "source": [
    "df['Product_Category_3'].value_counts()"
   ]
  },
  {
   "cell_type": "code",
   "execution_count": 27,
   "id": "dadc15d5",
   "metadata": {},
   "outputs": [
    {
     "data": {
      "text/plain": [
       "16.0"
      ]
     },
     "execution_count": 27,
     "metadata": {},
     "output_type": "execute_result"
    }
   ],
   "source": [
    "# check the mode values\n",
    "df['Product_Category_3'].mode()[0]"
   ]
  },
  {
   "cell_type": "code",
   "execution_count": 28,
   "id": "ebdadb74",
   "metadata": {},
   "outputs": [],
   "source": [
    "df['Product_Category_3']=df['Product_Category_3'].fillna(df['Product_Category_3'].mode()[0])\n",
    "# mode use because values are Discrete values not Continuous values\n"
   ]
  },
  {
   "cell_type": "code",
   "execution_count": 29,
   "id": "9fcd7187",
   "metadata": {},
   "outputs": [
    {
     "data": {
      "text/plain": [
       "0"
      ]
     },
     "execution_count": 29,
     "metadata": {},
     "output_type": "execute_result"
    }
   ],
   "source": [
    "# check null value in 'Product_Category_2'\n",
    "df['Product_Category_3'].isnull().sum()"
   ]
  },
  {
   "cell_type": "code",
   "execution_count": 30,
   "id": "c0e35dae",
   "metadata": {},
   "outputs": [
    {
     "data": {
      "text/html": [
       "<div>\n",
       "<style scoped>\n",
       "    .dataframe tbody tr th:only-of-type {\n",
       "        vertical-align: middle;\n",
       "    }\n",
       "\n",
       "    .dataframe tbody tr th {\n",
       "        vertical-align: top;\n",
       "    }\n",
       "\n",
       "    .dataframe thead th {\n",
       "        text-align: right;\n",
       "    }\n",
       "</style>\n",
       "<table border=\"1\" class=\"dataframe\">\n",
       "  <thead>\n",
       "    <tr style=\"text-align: right;\">\n",
       "      <th></th>\n",
       "      <th>Product_ID</th>\n",
       "      <th>Gender</th>\n",
       "      <th>Age</th>\n",
       "      <th>Occupation</th>\n",
       "      <th>Stay_In_Current_City_Years</th>\n",
       "      <th>Marital_Status</th>\n",
       "      <th>Product_Category_1</th>\n",
       "      <th>Product_Category_2</th>\n",
       "      <th>Product_Category_3</th>\n",
       "      <th>Purchase</th>\n",
       "      <th>B</th>\n",
       "      <th>C</th>\n",
       "    </tr>\n",
       "  </thead>\n",
       "  <tbody>\n",
       "    <tr>\n",
       "      <th>0</th>\n",
       "      <td>P00069042</td>\n",
       "      <td>0</td>\n",
       "      <td>0</td>\n",
       "      <td>10</td>\n",
       "      <td>2</td>\n",
       "      <td>0</td>\n",
       "      <td>3</td>\n",
       "      <td>8.0</td>\n",
       "      <td>16.0</td>\n",
       "      <td>8370.0</td>\n",
       "      <td>0</td>\n",
       "      <td>0</td>\n",
       "    </tr>\n",
       "    <tr>\n",
       "      <th>1</th>\n",
       "      <td>P00248942</td>\n",
       "      <td>0</td>\n",
       "      <td>0</td>\n",
       "      <td>10</td>\n",
       "      <td>2</td>\n",
       "      <td>0</td>\n",
       "      <td>1</td>\n",
       "      <td>6.0</td>\n",
       "      <td>14.0</td>\n",
       "      <td>15200.0</td>\n",
       "      <td>0</td>\n",
       "      <td>0</td>\n",
       "    </tr>\n",
       "    <tr>\n",
       "      <th>2</th>\n",
       "      <td>P00087842</td>\n",
       "      <td>0</td>\n",
       "      <td>0</td>\n",
       "      <td>10</td>\n",
       "      <td>2</td>\n",
       "      <td>0</td>\n",
       "      <td>12</td>\n",
       "      <td>8.0</td>\n",
       "      <td>16.0</td>\n",
       "      <td>1422.0</td>\n",
       "      <td>0</td>\n",
       "      <td>0</td>\n",
       "    </tr>\n",
       "    <tr>\n",
       "      <th>3</th>\n",
       "      <td>P00085442</td>\n",
       "      <td>0</td>\n",
       "      <td>0</td>\n",
       "      <td>10</td>\n",
       "      <td>2</td>\n",
       "      <td>0</td>\n",
       "      <td>12</td>\n",
       "      <td>14.0</td>\n",
       "      <td>16.0</td>\n",
       "      <td>1057.0</td>\n",
       "      <td>0</td>\n",
       "      <td>0</td>\n",
       "    </tr>\n",
       "    <tr>\n",
       "      <th>4</th>\n",
       "      <td>P00285442</td>\n",
       "      <td>1</td>\n",
       "      <td>6</td>\n",
       "      <td>16</td>\n",
       "      <td>4+</td>\n",
       "      <td>0</td>\n",
       "      <td>8</td>\n",
       "      <td>8.0</td>\n",
       "      <td>16.0</td>\n",
       "      <td>7969.0</td>\n",
       "      <td>0</td>\n",
       "      <td>1</td>\n",
       "    </tr>\n",
       "  </tbody>\n",
       "</table>\n",
       "</div>"
      ],
      "text/plain": [
       "  Product_ID  Gender  Age  Occupation Stay_In_Current_City_Years  \\\n",
       "0  P00069042       0    0          10                          2   \n",
       "1  P00248942       0    0          10                          2   \n",
       "2  P00087842       0    0          10                          2   \n",
       "3  P00085442       0    0          10                          2   \n",
       "4  P00285442       1    6          16                         4+   \n",
       "\n",
       "   Marital_Status  Product_Category_1  Product_Category_2  Product_Category_3  \\\n",
       "0               0                   3                 8.0                16.0   \n",
       "1               0                   1                 6.0                14.0   \n",
       "2               0                  12                 8.0                16.0   \n",
       "3               0                  12                14.0                16.0   \n",
       "4               0                   8                 8.0                16.0   \n",
       "\n",
       "   Purchase  B  C  \n",
       "0    8370.0  0  0  \n",
       "1   15200.0  0  0  \n",
       "2    1422.0  0  0  \n",
       "3    1057.0  0  0  \n",
       "4    7969.0  0  1  "
      ]
     },
     "execution_count": 30,
     "metadata": {},
     "output_type": "execute_result"
    }
   ],
   "source": [
    "df.head()"
   ]
  },
  {
   "cell_type": "code",
   "execution_count": 31,
   "id": "957450d8",
   "metadata": {},
   "outputs": [
    {
     "data": {
      "text/plain": [
       "(783667, 12)"
      ]
     },
     "execution_count": 31,
     "metadata": {},
     "output_type": "execute_result"
    }
   ],
   "source": [
    "df.shape"
   ]
  },
  {
   "cell_type": "code",
   "execution_count": 32,
   "id": "b58e2650",
   "metadata": {},
   "outputs": [
    {
     "data": {
      "text/plain": [
       "array(['2', '4+', '3', '1', '0'], dtype=object)"
      ]
     },
     "execution_count": 32,
     "metadata": {},
     "output_type": "execute_result"
    }
   ],
   "source": [
    "df['Stay_In_Current_City_Years'].unique()"
   ]
  },
  {
   "cell_type": "code",
   "execution_count": 33,
   "id": "46385cf5",
   "metadata": {},
   "outputs": [
    {
     "name": "stderr",
     "output_type": "stream",
     "text": [
      "C:\\Users\\harip\\AppData\\Local\\Temp\\ipykernel_13812\\2925700794.py:1: FutureWarning: The default value of regex will change from True to False in a future version. In addition, single character regular expressions will *not* be treated as literal strings when regex=True.\n",
      "  df['Stay_In_Current_City_Years']=df['Stay_In_Current_City_Years'].str.replace('+',\"\")\n"
     ]
    }
   ],
   "source": [
    "df['Stay_In_Current_City_Years']=df['Stay_In_Current_City_Years'].str.replace('+',\"\")"
   ]
  },
  {
   "cell_type": "code",
   "execution_count": 34,
   "id": "3db88646",
   "metadata": {},
   "outputs": [
    {
     "data": {
      "text/plain": [
       "0         2\n",
       "1         2\n",
       "2         2\n",
       "3         2\n",
       "4         4\n",
       "         ..\n",
       "233594    4\n",
       "233595    4\n",
       "233596    4\n",
       "233597    4\n",
       "233598    4\n",
       "Name: Stay_In_Current_City_Years, Length: 783667, dtype: object"
      ]
     },
     "execution_count": 34,
     "metadata": {},
     "output_type": "execute_result"
    }
   ],
   "source": [
    "df['Stay_In_Current_City_Years']"
   ]
  },
  {
   "cell_type": "code",
   "execution_count": 35,
   "id": "fe4af575",
   "metadata": {},
   "outputs": [
    {
     "name": "stdout",
     "output_type": "stream",
     "text": [
      "<class 'pandas.core.frame.DataFrame'>\n",
      "Int64Index: 783667 entries, 0 to 233598\n",
      "Data columns (total 12 columns):\n",
      " #   Column                      Non-Null Count   Dtype  \n",
      "---  ------                      --------------   -----  \n",
      " 0   Product_ID                  783667 non-null  object \n",
      " 1   Gender                      783667 non-null  int64  \n",
      " 2   Age                         783667 non-null  int32  \n",
      " 3   Occupation                  783667 non-null  int64  \n",
      " 4   Stay_In_Current_City_Years  783667 non-null  object \n",
      " 5   Marital_Status              783667 non-null  int64  \n",
      " 6   Product_Category_1          783667 non-null  int64  \n",
      " 7   Product_Category_2          783667 non-null  float64\n",
      " 8   Product_Category_3          783667 non-null  float64\n",
      " 9   Purchase                    550068 non-null  float64\n",
      " 10  B                           783667 non-null  uint8  \n",
      " 11  C                           783667 non-null  uint8  \n",
      "dtypes: float64(3), int32(1), int64(4), object(2), uint8(2)\n",
      "memory usage: 64.3+ MB\n"
     ]
    }
   ],
   "source": [
    "df.info()"
   ]
  },
  {
   "cell_type": "code",
   "execution_count": 36,
   "id": "ebce73bd",
   "metadata": {},
   "outputs": [
    {
     "name": "stdout",
     "output_type": "stream",
     "text": [
      "<class 'pandas.core.frame.DataFrame'>\n",
      "Int64Index: 783667 entries, 0 to 233598\n",
      "Data columns (total 12 columns):\n",
      " #   Column                      Non-Null Count   Dtype  \n",
      "---  ------                      --------------   -----  \n",
      " 0   Product_ID                  783667 non-null  object \n",
      " 1   Gender                      783667 non-null  int64  \n",
      " 2   Age                         783667 non-null  int32  \n",
      " 3   Occupation                  783667 non-null  int64  \n",
      " 4   Stay_In_Current_City_Years  783667 non-null  int32  \n",
      " 5   Marital_Status              783667 non-null  int64  \n",
      " 6   Product_Category_1          783667 non-null  int64  \n",
      " 7   Product_Category_2          783667 non-null  float64\n",
      " 8   Product_Category_3          783667 non-null  float64\n",
      " 9   Purchase                    550068 non-null  float64\n",
      " 10  B                           783667 non-null  uint8  \n",
      " 11  C                           783667 non-null  uint8  \n",
      "dtypes: float64(3), int32(2), int64(4), object(1), uint8(2)\n",
      "memory usage: 61.3+ MB\n"
     ]
    }
   ],
   "source": [
    "#convert object into integers\n",
    "df['Stay_In_Current_City_Years']=df['Stay_In_Current_City_Years'].astype(int)\n",
    "df.info()"
   ]
  },
  {
   "cell_type": "code",
   "execution_count": 37,
   "id": "5647b0f1",
   "metadata": {},
   "outputs": [
    {
     "name": "stdout",
     "output_type": "stream",
     "text": [
      "<class 'pandas.core.frame.DataFrame'>\n",
      "Int64Index: 783667 entries, 0 to 233598\n",
      "Data columns (total 12 columns):\n",
      " #   Column                      Non-Null Count   Dtype  \n",
      "---  ------                      --------------   -----  \n",
      " 0   Product_ID                  783667 non-null  object \n",
      " 1   Gender                      783667 non-null  int64  \n",
      " 2   Age                         783667 non-null  int32  \n",
      " 3   Occupation                  783667 non-null  int64  \n",
      " 4   Stay_In_Current_City_Years  783667 non-null  int32  \n",
      " 5   Marital_Status              783667 non-null  int64  \n",
      " 6   Product_Category_1          783667 non-null  int64  \n",
      " 7   Product_Category_2          783667 non-null  float64\n",
      " 8   Product_Category_3          783667 non-null  float64\n",
      " 9   Purchase                    550068 non-null  float64\n",
      " 10  B                           783667 non-null  int32  \n",
      " 11  C                           783667 non-null  int32  \n",
      "dtypes: float64(3), int32(4), int64(4), object(1)\n",
      "memory usage: 65.8+ MB\n"
     ]
    }
   ],
   "source": [
    "# uint type to int type\n",
    "df['B']=df['B'].astype(int)\n",
    "df['C']=df['C'].astype(int)\n",
    "df.info()"
   ]
  },
  {
   "cell_type": "code",
   "execution_count": 38,
   "id": "39b4c19e",
   "metadata": {},
   "outputs": [
    {
     "name": "stderr",
     "output_type": "stream",
     "text": [
      "C:\\Users\\harip\\anaconda3\\lib\\site-packages\\seaborn\\_decorators.py:36: FutureWarning: Pass the following variables as keyword args: x, y. From version 0.12, the only valid positional argument will be `data`, and passing other arguments without an explicit keyword will result in an error or misinterpretation.\n",
      "  warnings.warn(\n"
     ]
    },
    {
     "data": {
      "text/plain": [
       "<AxesSubplot:xlabel='Age', ylabel='Purchase'>"
      ]
     },
     "execution_count": 38,
     "metadata": {},
     "output_type": "execute_result"
    },
    {
     "data": {
      "image/png": "[encoded data removed]",
      "text/plain": [
       "<Figure size 640x480 with 1 Axes>"
      ]
     },
     "metadata": {},
     "output_type": "display_data"
    }
   ],
   "source": [
    "#barplot\n",
    "sns.barplot('Age','Purchase',hue='Gender',data=df,palette=['Blue','Pink'])"
   ]
  },
  {
   "cell_type": "markdown",
   "id": "7692c1a9",
   "metadata": {},
   "source": [
    "Observation\n",
    "Purchasing of men is high then women."
   ]
  },
  {
   "cell_type": "code",
   "execution_count": 39,
   "id": "0ec92fc3",
   "metadata": {},
   "outputs": [
    {
     "name": "stderr",
     "output_type": "stream",
     "text": [
      "C:\\Users\\harip\\anaconda3\\lib\\site-packages\\seaborn\\_decorators.py:36: FutureWarning: Pass the following variables as keyword args: x, y. From version 0.12, the only valid positional argument will be `data`, and passing other arguments without an explicit keyword will result in an error or misinterpretation.\n",
      "  warnings.warn(\n"
     ]
    },
    {
     "data": {
      "text/plain": [
       "<AxesSubplot:xlabel='Occupation', ylabel='Purchase'>"
      ]
     },
     "execution_count": 39,
     "metadata": {},
     "output_type": "execute_result"
    },
    {
     "data": {
      "image/png": "[encoded data removed]",
      "text/plain": [
       "<Figure size 640x480 with 1 Axes>"
      ]
     },
     "metadata": {},
     "output_type": "display_data"
    }
   ],
   "source": [
    "## Visualization of Purchase with occupation\n",
    "sns.barplot('Occupation','Purchase',hue='Gender',data=df,palette=['Blue','Pink'])"
   ]
  },
  {
   "cell_type": "code",
   "execution_count": 40,
   "id": "72e0161d",
   "metadata": {},
   "outputs": [
    {
     "name": "stderr",
     "output_type": "stream",
     "text": [
      "C:\\Users\\harip\\anaconda3\\lib\\site-packages\\seaborn\\_decorators.py:36: FutureWarning: Pass the following variables as keyword args: x, y. From version 0.12, the only valid positional argument will be `data`, and passing other arguments without an explicit keyword will result in an error or misinterpretation.\n",
      "  warnings.warn(\n"
     ]
    },
    {
     "data": {
      "text/plain": [
       "<AxesSubplot:xlabel='Product_Category_1', ylabel='Purchase'>"
      ]
     },
     "execution_count": 40,
     "metadata": {},
     "output_type": "execute_result"
    },
    {
     "data": {
      "image/png": "[encoded data removed]",
      "text/plain": [
       "<Figure size 640x480 with 1 Axes>"
      ]
     },
     "metadata": {},
     "output_type": "display_data"
    }
   ],
   "source": [
    "sns.barplot('Product_Category_1','Purchase',hue='Gender',data=df,palette=['Blue','Pink'])"
   ]
  },
  {
   "cell_type": "code",
   "execution_count": 41,
   "id": "adffc0a1",
   "metadata": {},
   "outputs": [
    {
     "name": "stderr",
     "output_type": "stream",
     "text": [
      "C:\\Users\\harip\\anaconda3\\lib\\site-packages\\seaborn\\_decorators.py:36: FutureWarning: Pass the following variables as keyword args: x, y. From version 0.12, the only valid positional argument will be `data`, and passing other arguments without an explicit keyword will result in an error or misinterpretation.\n",
      "  warnings.warn(\n"
     ]
    },
    {
     "data": {
      "text/plain": [
       "<AxesSubplot:xlabel='Product_Category_2', ylabel='Purchase'>"
      ]
     },
     "execution_count": 41,
     "metadata": {},
     "output_type": "execute_result"
    },
    {
     "data": {
      "image/png": "[encoded data removed]",
      "text/plain": [
       "<Figure size 640x480 with 1 Axes>"
      ]
     },
     "metadata": {},
     "output_type": "display_data"
    }
   ],
   "source": [
    "sns.barplot('Product_Category_2','Purchase',hue='Gender',data=df,palette=['Blue','Pink'])"
   ]
  },
  {
   "cell_type": "code",
   "execution_count": 42,
   "id": "ed3cdd4b",
   "metadata": {},
   "outputs": [
    {
     "name": "stderr",
     "output_type": "stream",
     "text": [
      "C:\\Users\\harip\\anaconda3\\lib\\site-packages\\seaborn\\_decorators.py:36: FutureWarning: Pass the following variables as keyword args: x, y. From version 0.12, the only valid positional argument will be `data`, and passing other arguments without an explicit keyword will result in an error or misinterpretation.\n",
      "  warnings.warn(\n"
     ]
    },
    {
     "data": {
      "text/plain": [
       "<AxesSubplot:xlabel='Product_Category_3', ylabel='Purchase'>"
      ]
     },
     "execution_count": 42,
     "metadata": {},
     "output_type": "execute_result"
    },
    {
     "data": {
      "image/png": "[encoded data removed]",
      "text/plain": [
       "<Figure size 640x480 with 1 Axes>"
      ]
     },
     "metadata": {},
     "output_type": "display_data"
    }
   ],
   "source": [
    "sns.barplot('Product_Category_3','Purchase',hue='Gender',data=df,palette=['Blue','Pink'])"
   ]
  },
  {
   "cell_type": "code",
   "execution_count": 43,
   "id": "5f6aeca6",
   "metadata": {},
   "outputs": [],
   "source": [
    "#Feature Scaling \n",
    "df_test=df[df['Purchase'].isnull()]"
   ]
  },
  {
   "cell_type": "code",
   "execution_count": 44,
   "id": "0a348731",
   "metadata": {},
   "outputs": [],
   "source": [
    "##Feature Scaling \n",
    "df_train=df[~df['Purchase'].isnull()]"
   ]
  },
  {
   "cell_type": "code",
   "execution_count": 45,
   "id": "cd65279b",
   "metadata": {},
   "outputs": [],
   "source": [
    "X=df_train.drop('Purchase',axis=1)"
   ]
  },
  {
   "cell_type": "code",
   "execution_count": 46,
   "id": "e9a372d5",
   "metadata": {},
   "outputs": [
    {
     "data": {
      "text/html": [
       "<div>\n",
       "<style scoped>\n",
       "    .dataframe tbody tr th:only-of-type {\n",
       "        vertical-align: middle;\n",
       "    }\n",
       "\n",
       "    .dataframe tbody tr th {\n",
       "        vertical-align: top;\n",
       "    }\n",
       "\n",
       "    .dataframe thead th {\n",
       "        text-align: right;\n",
       "    }\n",
       "</style>\n",
       "<table border=\"1\" class=\"dataframe\">\n",
       "  <thead>\n",
       "    <tr style=\"text-align: right;\">\n",
       "      <th></th>\n",
       "      <th>Product_ID</th>\n",
       "      <th>Gender</th>\n",
       "      <th>Age</th>\n",
       "      <th>Occupation</th>\n",
       "      <th>Stay_In_Current_City_Years</th>\n",
       "      <th>Marital_Status</th>\n",
       "      <th>Product_Category_1</th>\n",
       "      <th>Product_Category_2</th>\n",
       "      <th>Product_Category_3</th>\n",
       "      <th>B</th>\n",
       "      <th>C</th>\n",
       "    </tr>\n",
       "  </thead>\n",
       "  <tbody>\n",
       "    <tr>\n",
       "      <th>0</th>\n",
       "      <td>P00069042</td>\n",
       "      <td>0</td>\n",
       "      <td>0</td>\n",
       "      <td>10</td>\n",
       "      <td>2</td>\n",
       "      <td>0</td>\n",
       "      <td>3</td>\n",
       "      <td>8.0</td>\n",
       "      <td>16.0</td>\n",
       "      <td>0</td>\n",
       "      <td>0</td>\n",
       "    </tr>\n",
       "    <tr>\n",
       "      <th>1</th>\n",
       "      <td>P00248942</td>\n",
       "      <td>0</td>\n",
       "      <td>0</td>\n",
       "      <td>10</td>\n",
       "      <td>2</td>\n",
       "      <td>0</td>\n",
       "      <td>1</td>\n",
       "      <td>6.0</td>\n",
       "      <td>14.0</td>\n",
       "      <td>0</td>\n",
       "      <td>0</td>\n",
       "    </tr>\n",
       "    <tr>\n",
       "      <th>2</th>\n",
       "      <td>P00087842</td>\n",
       "      <td>0</td>\n",
       "      <td>0</td>\n",
       "      <td>10</td>\n",
       "      <td>2</td>\n",
       "      <td>0</td>\n",
       "      <td>12</td>\n",
       "      <td>8.0</td>\n",
       "      <td>16.0</td>\n",
       "      <td>0</td>\n",
       "      <td>0</td>\n",
       "    </tr>\n",
       "    <tr>\n",
       "      <th>3</th>\n",
       "      <td>P00085442</td>\n",
       "      <td>0</td>\n",
       "      <td>0</td>\n",
       "      <td>10</td>\n",
       "      <td>2</td>\n",
       "      <td>0</td>\n",
       "      <td>12</td>\n",
       "      <td>14.0</td>\n",
       "      <td>16.0</td>\n",
       "      <td>0</td>\n",
       "      <td>0</td>\n",
       "    </tr>\n",
       "    <tr>\n",
       "      <th>4</th>\n",
       "      <td>P00285442</td>\n",
       "      <td>1</td>\n",
       "      <td>6</td>\n",
       "      <td>16</td>\n",
       "      <td>4</td>\n",
       "      <td>0</td>\n",
       "      <td>8</td>\n",
       "      <td>8.0</td>\n",
       "      <td>16.0</td>\n",
       "      <td>0</td>\n",
       "      <td>1</td>\n",
       "    </tr>\n",
       "  </tbody>\n",
       "</table>\n",
       "</div>"
      ],
      "text/plain": [
       "  Product_ID  Gender  Age  Occupation  Stay_In_Current_City_Years  \\\n",
       "0  P00069042       0    0          10                           2   \n",
       "1  P00248942       0    0          10                           2   \n",
       "2  P00087842       0    0          10                           2   \n",
       "3  P00085442       0    0          10                           2   \n",
       "4  P00285442       1    6          16                           4   \n",
       "\n",
       "   Marital_Status  Product_Category_1  Product_Category_2  Product_Category_3  \\\n",
       "0               0                   3                 8.0                16.0   \n",
       "1               0                   1                 6.0                14.0   \n",
       "2               0                  12                 8.0                16.0   \n",
       "3               0                  12                14.0                16.0   \n",
       "4               0                   8                 8.0                16.0   \n",
       "\n",
       "   B  C  \n",
       "0  0  0  \n",
       "1  0  0  \n",
       "2  0  0  \n",
       "3  0  0  \n",
       "4  0  1  "
      ]
     },
     "execution_count": 46,
     "metadata": {},
     "output_type": "execute_result"
    }
   ],
   "source": [
    "X.head()"
   ]
  },
  {
   "cell_type": "code",
   "execution_count": 47,
   "id": "0a3152d0",
   "metadata": {},
   "outputs": [
    {
     "data": {
      "text/plain": [
       "(550068, 11)"
      ]
     },
     "execution_count": 47,
     "metadata": {},
     "output_type": "execute_result"
    }
   ],
   "source": [
    "X.shape"
   ]
  },
  {
   "cell_type": "code",
   "execution_count": 48,
   "id": "04bcace4",
   "metadata": {},
   "outputs": [
    {
     "data": {
      "text/plain": [
       "0     8370.0\n",
       "1    15200.0\n",
       "2     1422.0\n",
       "3     1057.0\n",
       "4     7969.0\n",
       "Name: Purchase, dtype: float64"
      ]
     },
     "execution_count": 48,
     "metadata": {},
     "output_type": "execute_result"
    }
   ],
   "source": [
    "y=df_train['Purchase']\n",
    "y.head()"
   ]
  },
  {
   "cell_type": "code",
   "execution_count": 49,
   "id": "b43b17ae",
   "metadata": {},
   "outputs": [
    {
     "data": {
      "text/plain": [
       "(550068,)"
      ]
     },
     "execution_count": 49,
     "metadata": {},
     "output_type": "execute_result"
    }
   ],
   "source": [
    "y.shape"
   ]
  },
  {
   "cell_type": "code",
   "execution_count": 50,
   "id": "086dd5e0",
   "metadata": {},
   "outputs": [],
   "source": [
    "from sklearn.model_selection import train_test_split\n",
    "X_train, X_test, y_train, y_test = train_test_split(\n",
    "     X, y, test_size=0.33, random_state=42)"
   ]
  },
  {
   "cell_type": "code",
   "execution_count": 51,
   "id": "7604b0e0",
   "metadata": {},
   "outputs": [],
   "source": [
    "X_train.drop('Product_ID',axis=1,inplace=True)\n",
    "X_test.drop('Product_ID',axis=1,inplace=True)"
   ]
  },
  {
   "cell_type": "code",
   "execution_count": 52,
   "id": "e0d49610",
   "metadata": {},
   "outputs": [],
   "source": [
    "from sklearn.preprocessing import StandardScaler\n",
    "sc=StandardScaler()"
   ]
  },
  {
   "cell_type": "code",
   "execution_count": 53,
   "id": "b2156605",
   "metadata": {},
   "outputs": [],
   "source": [
    "X_train=sc.fit_transform(X_train)\n",
    "X_test=sc.transform(X_test)"
   ]
  },
  {
   "cell_type": "code",
   "execution_count": 54,
   "id": "def26a17",
   "metadata": {},
   "outputs": [
    {
     "data": {
      "text/html": [
       "<div>\n",
       "<style scoped>\n",
       "    .dataframe tbody tr th:only-of-type {\n",
       "        vertical-align: middle;\n",
       "    }\n",
       "\n",
       "    .dataframe tbody tr th {\n",
       "        vertical-align: top;\n",
       "    }\n",
       "\n",
       "    .dataframe thead th {\n",
       "        text-align: right;\n",
       "    }\n",
       "</style>\n",
       "<table border=\"1\" class=\"dataframe\">\n",
       "  <thead>\n",
       "    <tr style=\"text-align: right;\">\n",
       "      <th></th>\n",
       "      <th>0</th>\n",
       "      <th>1</th>\n",
       "      <th>2</th>\n",
       "      <th>3</th>\n",
       "      <th>4</th>\n",
       "      <th>5</th>\n",
       "      <th>6</th>\n",
       "      <th>7</th>\n",
       "      <th>8</th>\n",
       "      <th>9</th>\n",
       "    </tr>\n",
       "  </thead>\n",
       "  <tbody>\n",
       "    <tr>\n",
       "      <th>0</th>\n",
       "      <td>0.571413</td>\n",
       "      <td>-1.105057</td>\n",
       "      <td>0.908678</td>\n",
       "      <td>0.883622</td>\n",
       "      <td>-0.834025</td>\n",
       "      <td>-1.119438</td>\n",
       "      <td>-1.690986</td>\n",
       "      <td>0.368919</td>\n",
       "      <td>1.175695</td>\n",
       "      <td>-0.672824</td>\n",
       "    </tr>\n",
       "    <tr>\n",
       "      <th>1</th>\n",
       "      <td>0.571413</td>\n",
       "      <td>1.847169</td>\n",
       "      <td>-1.238204</td>\n",
       "      <td>-1.442077</td>\n",
       "      <td>1.199005</td>\n",
       "      <td>0.659278</td>\n",
       "      <td>1.570200</td>\n",
       "      <td>0.368919</td>\n",
       "      <td>-0.850561</td>\n",
       "      <td>-0.672824</td>\n",
       "    </tr>\n",
       "    <tr>\n",
       "      <th>2</th>\n",
       "      <td>0.571413</td>\n",
       "      <td>0.371056</td>\n",
       "      <td>1.368724</td>\n",
       "      <td>-1.442077</td>\n",
       "      <td>-0.834025</td>\n",
       "      <td>-0.611233</td>\n",
       "      <td>-1.225102</td>\n",
       "      <td>-1.091830</td>\n",
       "      <td>-0.850561</td>\n",
       "      <td>1.486273</td>\n",
       "    </tr>\n",
       "    <tr>\n",
       "      <th>3</th>\n",
       "      <td>0.571413</td>\n",
       "      <td>-0.367001</td>\n",
       "      <td>-0.624809</td>\n",
       "      <td>-0.666844</td>\n",
       "      <td>-0.834025</td>\n",
       "      <td>0.659278</td>\n",
       "      <td>1.570200</td>\n",
       "      <td>0.368919</td>\n",
       "      <td>1.175695</td>\n",
       "      <td>-0.672824</td>\n",
       "    </tr>\n",
       "    <tr>\n",
       "      <th>4</th>\n",
       "      <td>-1.750048</td>\n",
       "      <td>0.371056</td>\n",
       "      <td>1.828771</td>\n",
       "      <td>0.883622</td>\n",
       "      <td>1.199005</td>\n",
       "      <td>-0.611233</td>\n",
       "      <td>-1.225102</td>\n",
       "      <td>-1.091830</td>\n",
       "      <td>1.175695</td>\n",
       "      <td>-0.672824</td>\n",
       "    </tr>\n",
       "    <tr>\n",
       "      <th>...</th>\n",
       "      <td>...</td>\n",
       "      <td>...</td>\n",
       "      <td>...</td>\n",
       "      <td>...</td>\n",
       "      <td>...</td>\n",
       "      <td>...</td>\n",
       "      <td>...</td>\n",
       "      <td>...</td>\n",
       "      <td>...</td>\n",
       "      <td>...</td>\n",
       "    </tr>\n",
       "    <tr>\n",
       "      <th>368540</th>\n",
       "      <td>0.571413</td>\n",
       "      <td>1.109113</td>\n",
       "      <td>1.368724</td>\n",
       "      <td>0.108389</td>\n",
       "      <td>-0.834025</td>\n",
       "      <td>-0.103029</td>\n",
       "      <td>-0.293335</td>\n",
       "      <td>0.368919</td>\n",
       "      <td>-0.850561</td>\n",
       "      <td>1.486273</td>\n",
       "    </tr>\n",
       "    <tr>\n",
       "      <th>368541</th>\n",
       "      <td>0.571413</td>\n",
       "      <td>-0.367001</td>\n",
       "      <td>0.908678</td>\n",
       "      <td>0.108389</td>\n",
       "      <td>1.199005</td>\n",
       "      <td>-0.103029</td>\n",
       "      <td>-0.293335</td>\n",
       "      <td>0.368919</td>\n",
       "      <td>-0.850561</td>\n",
       "      <td>1.486273</td>\n",
       "    </tr>\n",
       "    <tr>\n",
       "      <th>368542</th>\n",
       "      <td>-1.750048</td>\n",
       "      <td>-1.105057</td>\n",
       "      <td>-1.084855</td>\n",
       "      <td>-0.666844</td>\n",
       "      <td>-0.834025</td>\n",
       "      <td>-0.103029</td>\n",
       "      <td>-0.293335</td>\n",
       "      <td>0.368919</td>\n",
       "      <td>1.175695</td>\n",
       "      <td>-0.672824</td>\n",
       "    </tr>\n",
       "    <tr>\n",
       "      <th>368543</th>\n",
       "      <td>-1.750048</td>\n",
       "      <td>-1.105057</td>\n",
       "      <td>-0.624809</td>\n",
       "      <td>0.108389</td>\n",
       "      <td>-0.834025</td>\n",
       "      <td>0.659278</td>\n",
       "      <td>1.104316</td>\n",
       "      <td>0.368919</td>\n",
       "      <td>1.175695</td>\n",
       "      <td>-0.672824</td>\n",
       "    </tr>\n",
       "    <tr>\n",
       "      <th>368544</th>\n",
       "      <td>-1.750048</td>\n",
       "      <td>-1.105057</td>\n",
       "      <td>-0.931507</td>\n",
       "      <td>0.108389</td>\n",
       "      <td>1.199005</td>\n",
       "      <td>-0.103029</td>\n",
       "      <td>1.104316</td>\n",
       "      <td>0.368919</td>\n",
       "      <td>-0.850561</td>\n",
       "      <td>-0.672824</td>\n",
       "    </tr>\n",
       "  </tbody>\n",
       "</table>\n",
       "<p>368545 rows × 10 columns</p>\n",
       "</div>"
      ],
      "text/plain": [
       "               0         1         2         3         4         5         6  \\\n",
       "0       0.571413 -1.105057  0.908678  0.883622 -0.834025 -1.119438 -1.690986   \n",
       "1       0.571413  1.847169 -1.238204 -1.442077  1.199005  0.659278  1.570200   \n",
       "2       0.571413  0.371056  1.368724 -1.442077 -0.834025 -0.611233 -1.225102   \n",
       "3       0.571413 -0.367001 -0.624809 -0.666844 -0.834025  0.659278  1.570200   \n",
       "4      -1.750048  0.371056  1.828771  0.883622  1.199005 -0.611233 -1.225102   \n",
       "...          ...       ...       ...       ...       ...       ...       ...   \n",
       "368540  0.571413  1.109113  1.368724  0.108389 -0.834025 -0.103029 -0.293335   \n",
       "368541  0.571413 -0.367001  0.908678  0.108389  1.199005 -0.103029 -0.293335   \n",
       "368542 -1.750048 -1.105057 -1.084855 -0.666844 -0.834025 -0.103029 -0.293335   \n",
       "368543 -1.750048 -1.105057 -0.624809  0.108389 -0.834025  0.659278  1.104316   \n",
       "368544 -1.750048 -1.105057 -0.931507  0.108389  1.199005 -0.103029  1.104316   \n",
       "\n",
       "               7         8         9  \n",
       "0       0.368919  1.175695 -0.672824  \n",
       "1       0.368919 -0.850561 -0.672824  \n",
       "2      -1.091830 -0.850561  1.486273  \n",
       "3       0.368919  1.175695 -0.672824  \n",
       "4      -1.091830  1.175695 -0.672824  \n",
       "...          ...       ...       ...  \n",
       "368540  0.368919 -0.850561  1.486273  \n",
       "368541  0.368919 -0.850561  1.486273  \n",
       "368542  0.368919  1.175695 -0.672824  \n",
       "368543  0.368919  1.175695 -0.672824  \n",
       "368544  0.368919 -0.850561 -0.672824  \n",
       "\n",
       "[368545 rows x 10 columns]"
      ]
     },
     "execution_count": 54,
     "metadata": {},
     "output_type": "execute_result"
    }
   ],
   "source": [
    "pd.DataFrame(X_train)"
   ]
  },
  {
   "cell_type": "code",
   "execution_count": 55,
   "id": "d21e76aa",
   "metadata": {},
   "outputs": [
    {
     "data": {
      "text/plain": [
       "396876    19307.0\n",
       "433826     7859.0\n",
       "516298    10718.0\n",
       "193380     9823.0\n",
       "273542    13702.0\n",
       "           ...   \n",
       "110268     1862.0\n",
       "259178     8623.0\n",
       "365838     6954.0\n",
       "131932     6151.0\n",
       "121958     7146.0\n",
       "Name: Purchase, Length: 368545, dtype: float64"
      ]
     },
     "execution_count": 55,
     "metadata": {},
     "output_type": "execute_result"
    }
   ],
   "source": [
    "y_train"
   ]
  },
  {
   "cell_type": "code",
   "execution_count": 56,
   "id": "1569ab71",
   "metadata": {},
   "outputs": [],
   "source": [
    "# train model"
   ]
  },
  {
   "cell_type": "markdown",
   "id": "5940a9e8",
   "metadata": {},
   "source": [
    "# Linear Regression"
   ]
  },
  {
   "cell_type": "code",
   "execution_count": 57,
   "id": "e675c2df",
   "metadata": {},
   "outputs": [],
   "source": [
    "from sklearn.linear_model import LinearRegression\n",
    "from sklearn.model_selection import cross_val_score"
   ]
  },
  {
   "cell_type": "code",
   "execution_count": 58,
   "id": "77b8dad6",
   "metadata": {},
   "outputs": [],
   "source": [
    "lm=LinearRegression()"
   ]
  },
  {
   "cell_type": "code",
   "execution_count": 59,
   "id": "aa6b86b5",
   "metadata": {},
   "outputs": [],
   "source": [
    "cv_mae=-cross_val_score(lm,\n",
    "                        X_train,y_train,\n",
    "                        cv=10,\n",
    "                        scoring='neg_mean_absolute_error')"
   ]
  },
  {
   "cell_type": "code",
   "execution_count": 60,
   "id": "130fab84",
   "metadata": {},
   "outputs": [
    {
     "data": {
      "text/plain": [
       "array([3552.87339567, 3558.2189821 , 3586.92344819, 3593.78946948,\n",
       "       3578.36879367, 3579.58677647, 3562.5252524 , 3580.10481878,\n",
       "       3614.77270981, 3571.42755699])"
      ]
     },
     "execution_count": 60,
     "metadata": {},
     "output_type": "execute_result"
    }
   ],
   "source": [
    "cv_mae"
   ]
  },
  {
   "cell_type": "code",
   "execution_count": 61,
   "id": "18415878",
   "metadata": {},
   "outputs": [
    {
     "data": {
      "text/plain": [
       "3577.8591203561127"
      ]
     },
     "execution_count": 61,
     "metadata": {},
     "output_type": "execute_result"
    }
   ],
   "source": [
    "cv_mae.mean()"
   ]
  },
  {
   "cell_type": "code",
   "execution_count": 62,
   "id": "d4ac86ec",
   "metadata": {},
   "outputs": [
    {
     "data": {
      "text/plain": [
       "17.301308781756482"
      ]
     },
     "execution_count": 62,
     "metadata": {},
     "output_type": "execute_result"
    }
   ],
   "source": [
    "cv_mae.std()"
   ]
  },
  {
   "cell_type": "code",
   "execution_count": 63,
   "id": "f66e1f54",
   "metadata": {},
   "outputs": [
    {
     "data": {
      "text/plain": [
       "LinearRegression()"
      ]
     },
     "execution_count": 63,
     "metadata": {},
     "output_type": "execute_result"
    }
   ],
   "source": [
    "lm.fit(X_train,y_train)"
   ]
  },
  {
   "cell_type": "code",
   "execution_count": 64,
   "id": "5de2a42d",
   "metadata": {},
   "outputs": [
    {
     "data": {
      "text/plain": [
       "9260.52247622407"
      ]
     },
     "execution_count": 64,
     "metadata": {},
     "output_type": "execute_result"
    }
   ],
   "source": [
    "lm.intercept_"
   ]
  },
  {
   "cell_type": "code",
   "execution_count": 65,
   "id": "4d0e3e9b",
   "metadata": {},
   "outputs": [
    {
     "data": {
      "text/plain": [
       "array([  219.40340889,   161.48399281,    40.75197867,    13.00328258,\n",
       "         -29.40171369, -1595.03999038,    -6.24829968,  -421.6489872 ,\n",
       "          76.37138564,   311.82740972])"
      ]
     },
     "execution_count": 65,
     "metadata": {},
     "output_type": "execute_result"
    }
   ],
   "source": [
    "lm.coef_"
   ]
  },
  {
   "cell_type": "code",
   "execution_count": 66,
   "id": "e9ecff44",
   "metadata": {},
   "outputs": [],
   "source": [
    "test_pred=lm.predict(X_test)"
   ]
  },
  {
   "cell_type": "code",
   "execution_count": 67,
   "id": "39937319",
   "metadata": {},
   "outputs": [
    {
     "data": {
      "text/plain": [
       "array([11827.531432  , 10472.23195058,  7361.92482116, ...,\n",
       "       10419.50288826, 11647.9911962 , 10649.86876652])"
      ]
     },
     "execution_count": 67,
     "metadata": {},
     "output_type": "execute_result"
    }
   ],
   "source": [
    "test_pred"
   ]
  },
  {
   "cell_type": "code",
   "execution_count": 68,
   "id": "71534b14",
   "metadata": {},
   "outputs": [
    {
     "data": {
      "image/png": "[encoded data removed]",
      "text/plain": [
       "<Figure size 640x480 with 1 Axes>"
      ]
     },
     "metadata": {},
     "output_type": "display_data"
    }
   ],
   "source": [
    "sns.regplot(x = y_test,y=test_pred)\n",
    "plt.title('Regression Analysis')\n",
    "plt.xlabel('y_test')\n",
    "plt.ylabel('test_pred')\n",
    "plt.grid()\n",
    "plt.show()"
   ]
  },
  {
   "cell_type": "markdown",
   "id": "c0affc07",
   "metadata": {},
   "source": [
    "# Ridge Regression"
   ]
  },
  {
   "cell_type": "code",
   "execution_count": 69,
   "id": "59df8d2f",
   "metadata": {},
   "outputs": [
    {
     "data": {
      "text/plain": [
       "array([  1.,   2.,   3.,   4.,   5.,   6.,   7.,   8.,   9.,  10.,  11.,\n",
       "        12.,  13.,  14.,  15.,  16.,  17.,  18.,  19.,  20.,  21.,  22.,\n",
       "        23.,  24.,  25.,  26.,  27.,  28.,  29.,  30.,  31.,  32.,  33.,\n",
       "        34.,  35.,  36.,  37.,  38.,  39.,  40.,  41.,  42.,  43.,  44.,\n",
       "        45.,  46.,  47.,  48.,  49.,  50.,  51.,  52.,  53.,  54.,  55.,\n",
       "        56.,  57.,  58.,  59.,  60.,  61.,  62.,  63.,  64.,  65.,  66.,\n",
       "        67.,  68.,  69.,  70.,  71.,  72.,  73.,  74.,  75.,  76.,  77.,\n",
       "        78.,  79.,  80.,  81.,  82.,  83.,  84.,  85.,  86.,  87.,  88.,\n",
       "        89.,  90.,  91.,  92.,  93.,  94.,  95.,  96.,  97.,  98.,  99.,\n",
       "       100.])"
      ]
     },
     "execution_count": 69,
     "metadata": {},
     "output_type": "execute_result"
    }
   ],
   "source": [
    "from sklearn.linear_model import Ridge,Lasso\n",
    "\n",
    "from sklearn.model_selection import GridSearchCV\n",
    "\n",
    "lambdas=np.linspace(1,100,100)\n",
    "lambdas"
   ]
  },
  {
   "cell_type": "code",
   "execution_count": 70,
   "id": "3933e668",
   "metadata": {},
   "outputs": [],
   "source": [
    "params={'alpha':lambdas}"
   ]
  },
  {
   "cell_type": "code",
   "execution_count": 71,
   "id": "0b22cfa1",
   "metadata": {},
   "outputs": [],
   "source": [
    "model=Ridge(fit_intercept=True)"
   ]
  },
  {
   "cell_type": "code",
   "execution_count": 72,
   "id": "e9782426",
   "metadata": {},
   "outputs": [],
   "source": [
    "grid_search=GridSearchCV(model,\n",
    "                         param_grid=params,\n",
    "                         cv=10,\n",
    "                         scoring='neg_mean_absolute_error',\n",
    "                        verbose=20,n_jobs=-1)"
   ]
  },
  {
   "cell_type": "code",
   "execution_count": 73,
   "id": "5304549f",
   "metadata": {},
   "outputs": [
    {
     "name": "stdout",
     "output_type": "stream",
     "text": [
      "Fitting 10 folds for each of 100 candidates, totalling 1000 fits\n"
     ]
    },
    {
     "data": {
      "text/plain": [
       "GridSearchCV(cv=10, estimator=Ridge(), n_jobs=-1,\n",
       "             param_grid={'alpha': array([  1.,   2.,   3.,   4.,   5.,   6.,   7.,   8.,   9.,  10.,  11.,\n",
       "        12.,  13.,  14.,  15.,  16.,  17.,  18.,  19.,  20.,  21.,  22.,\n",
       "        23.,  24.,  25.,  26.,  27.,  28.,  29.,  30.,  31.,  32.,  33.,\n",
       "        34.,  35.,  36.,  37.,  38.,  39.,  40.,  41.,  42.,  43.,  44.,\n",
       "        45.,  46.,  47.,  48.,  49.,  50.,  51.,  52.,  53.,  54.,  55.,\n",
       "        56.,  57.,  58.,  59.,  60.,  61.,  62.,  63.,  64.,  65.,  66.,\n",
       "        67.,  68.,  69.,  70.,  71.,  72.,  73.,  74.,  75.,  76.,  77.,\n",
       "        78.,  79.,  80.,  81.,  82.,  83.,  84.,  85.,  86.,  87.,  88.,\n",
       "        89.,  90.,  91.,  92.,  93.,  94.,  95.,  96.,  97.,  98.,  99.,\n",
       "       100.])},\n",
       "             scoring='neg_mean_absolute_error', verbose=20)"
      ]
     },
     "execution_count": 73,
     "metadata": {},
     "output_type": "execute_result"
    }
   ],
   "source": [
    "grid_search.fit(X_train,y_train)"
   ]
  },
  {
   "cell_type": "code",
   "execution_count": 74,
   "id": "d793fce3",
   "metadata": {},
   "outputs": [
    {
     "data": {
      "text/plain": [
       "Ridge()"
      ]
     },
     "execution_count": 74,
     "metadata": {},
     "output_type": "execute_result"
    }
   ],
   "source": [
    "grid_search.best_estimator_"
   ]
  },
  {
   "cell_type": "code",
   "execution_count": 75,
   "id": "07820d8e",
   "metadata": {},
   "outputs": [
    {
     "data": {
      "text/plain": [
       "{'mean_fit_time': array([0.2165056 , 0.23465106, 0.30781205, 0.31836731, 0.30718966,\n",
       "        0.30286262, 0.30812862, 0.32028935, 0.3162878 , 0.30926588,\n",
       "        0.32212789, 0.32583668, 0.33322031, 0.3118381 , 0.30674331,\n",
       "        0.31574845, 0.32969162, 0.3280983 , 0.30734112, 0.3154541 ,\n",
       "        0.31187911, 0.30323198, 0.31029801, 0.32637944, 0.32745252,\n",
       "        0.32397211, 0.34546783, 0.30831847, 0.31218174, 0.31437261,\n",
       "        0.30773525, 0.29955218, 0.32224355, 0.32340746, 0.30729678,\n",
       "        0.31544685, 0.34292536, 0.32600796, 0.31266546, 0.33030205,\n",
       "        0.32295189, 0.31323066, 0.31102669, 0.32346535, 0.30698133,\n",
       "        0.30573409, 0.31372244, 0.31739075, 0.31698642, 0.31048954,\n",
       "        0.30343127, 0.31223619, 0.33390548, 0.30927765, 0.31062531,\n",
       "        0.31901493, 0.30901198, 0.37257867, 0.35537724, 0.34031072,\n",
       "        0.31758113, 0.33286612, 0.3272047 , 0.41621218, 0.46252398,\n",
       "        0.44666862, 0.40867169, 0.32667437, 0.32188148, 0.4104543 ,\n",
       "        0.34066288, 0.32108521, 0.35024056, 0.32781861, 0.35427582,\n",
       "        0.39583049, 0.36423302, 0.35216756, 0.35018461, 0.3278635 ,\n",
       "        0.33894475, 0.31560328, 0.31263609, 0.33365102, 0.34061022,\n",
       "        0.349001  , 0.34144828, 0.34511814, 0.33665349, 0.33217208,\n",
       "        0.34533231, 0.36806824, 0.38784211, 0.42794437, 0.42276969,\n",
       "        0.48903451, 0.41767704, 0.40813806, 0.40336084, 0.36858215]),\n",
       " 'std_fit_time': array([0.02205401, 0.02174304, 0.02767804, 0.02336916, 0.03315886,\n",
       "        0.02095342, 0.01875327, 0.02204424, 0.01725567, 0.01989205,\n",
       "        0.0275995 , 0.04003137, 0.03455835, 0.02441065, 0.01819367,\n",
       "        0.01727138, 0.01725579, 0.02259952, 0.01448116, 0.02257229,\n",
       "        0.02118533, 0.01169391, 0.01838931, 0.02348485, 0.01719876,\n",
       "        0.01491015, 0.01820161, 0.02032099, 0.01720887, 0.00922546,\n",
       "        0.01632982, 0.01894884, 0.02015823, 0.02456202, 0.0200005 ,\n",
       "        0.02605184, 0.02823442, 0.01623069, 0.02701099, 0.02971902,\n",
       "        0.01524625, 0.01582094, 0.02065372, 0.02191866, 0.01547707,\n",
       "        0.01929973, 0.02605125, 0.02114475, 0.02230171, 0.02134218,\n",
       "        0.02861976, 0.01744332, 0.04135762, 0.01005012, 0.01635066,\n",
       "        0.01597177, 0.02430967, 0.05598813, 0.0301132 , 0.05584514,\n",
       "        0.01434168, 0.03495178, 0.02999391, 0.08455915, 0.04000454,\n",
       "        0.03533061, 0.04043008, 0.03350248, 0.02841664, 0.01881756,\n",
       "        0.03014747, 0.02936979, 0.04047166, 0.01826757, 0.05688193,\n",
       "        0.04712759, 0.01970342, 0.01378404, 0.02585246, 0.01944909,\n",
       "        0.01939713, 0.01909292, 0.02294164, 0.03583966, 0.02282042,\n",
       "        0.02014576, 0.01644056, 0.01968595, 0.02722868, 0.03204122,\n",
       "        0.01941806, 0.0519222 , 0.05127005, 0.02706498, 0.02784661,\n",
       "        0.05639374, 0.04766381, 0.02860347, 0.04474239, 0.05333889]),\n",
       " 'mean_score_time': array([0.00418458, 0.00305033, 0.00642834, 0.00486343, 0.00414941,\n",
       "        0.00389054, 0.00547428, 0.00458827, 0.00636251, 0.00486133,\n",
       "        0.00449286, 0.00430515, 0.00474384, 0.00626166, 0.00517082,\n",
       "        0.00563564, 0.00769987, 0.00537162, 0.00467184, 0.00448406,\n",
       "        0.0032656 , 0.00601575, 0.00674949, 0.00762334, 0.00426795,\n",
       "        0.0039907 , 0.00921042, 0.004986  , 0.00437894, 0.00420554,\n",
       "        0.00366764, 0.00468216, 0.00420969, 0.00321691, 0.00331087,\n",
       "        0.00675521, 0.00303118, 0.00456231, 0.00667057, 0.00364175,\n",
       "        0.00520389, 0.0059778 , 0.00419607, 0.00534267, 0.00449865,\n",
       "        0.00802817, 0.00367644, 0.00684717, 0.00306842, 0.00651598,\n",
       "        0.00433555, 0.00575993, 0.00433922, 0.00645769, 0.0067832 ,\n",
       "        0.00586669, 0.00574424, 0.00553472, 0.00376577, 0.00505016,\n",
       "        0.00868769, 0.00736191, 0.00748844, 0.00694396, 0.00845594,\n",
       "        0.00892742, 0.01139023, 0.00832963, 0.00638626, 0.00508521,\n",
       "        0.00724003, 0.01028991, 0.00673084, 0.00382783, 0.00538285,\n",
       "        0.0064132 , 0.00455127, 0.00450094, 0.00457606, 0.0043679 ,\n",
       "        0.00397491, 0.0055454 , 0.00622072, 0.00993795, 0.00734649,\n",
       "        0.00531616, 0.0045954 , 0.00557346, 0.00505474, 0.00643141,\n",
       "        0.00479028, 0.00386062, 0.00416481, 0.00924706, 0.00949118,\n",
       "        0.00559351, 0.00987301, 0.00328283, 0.00409806, 0.00688579]),\n",
       " 'std_score_time': array([0.003199  , 0.00241125, 0.00479062, 0.00290032, 0.00551348,\n",
       "        0.00237877, 0.00392443, 0.00264329, 0.00630592, 0.00229526,\n",
       "        0.00427326, 0.0022332 , 0.00337442, 0.00584456, 0.00315518,\n",
       "        0.0029441 , 0.00350092, 0.00315397, 0.00457137, 0.00538107,\n",
       "        0.00220234, 0.00758327, 0.00977951, 0.01059104, 0.00248899,\n",
       "        0.00321924, 0.00928825, 0.00473385, 0.00508989, 0.0013002 ,\n",
       "        0.00319714, 0.00517767, 0.00265779, 0.00254167, 0.00256813,\n",
       "        0.00387245, 0.0030713 , 0.00229676, 0.00604955, 0.00264083,\n",
       "        0.00443061, 0.00744114, 0.00527498, 0.00277664, 0.00237309,\n",
       "        0.00976564, 0.00257403, 0.00940537, 0.00155544, 0.00771339,\n",
       "        0.00305149, 0.00713308, 0.00342536, 0.00456164, 0.00515941,\n",
       "        0.00262395, 0.00436325, 0.00423312, 0.00230687, 0.0033942 ,\n",
       "        0.0107624 , 0.00822874, 0.00816348, 0.0048068 , 0.00644236,\n",
       "        0.00665904, 0.00925373, 0.00970719, 0.00657181, 0.0031722 ,\n",
       "        0.00463248, 0.0105072 , 0.00247703, 0.00177664, 0.00358624,\n",
       "        0.00317249, 0.0021863 , 0.00401469, 0.00736187, 0.0023379 ,\n",
       "        0.00282951, 0.00423227, 0.00481436, 0.01540734, 0.00826429,\n",
       "        0.00411912, 0.00247098, 0.00309812, 0.00294176, 0.00605012,\n",
       "        0.00221022, 0.0023769 , 0.00252427, 0.00699419, 0.00839028,\n",
       "        0.00662747, 0.01037407, 0.00159421, 0.00247907, 0.00390256]),\n",
       " 'param_alpha': masked_array(data=[1.0, 2.0, 3.0, 4.0, 5.0, 6.0, 7.0, 8.0, 9.0, 10.0,\n",
       "                    11.0, 12.0, 13.0, 14.0, 15.0, 16.0, 17.0, 18.0, 19.0,\n",
       "                    20.0, 21.0, 22.0, 23.0, 24.0, 25.0, 26.0, 27.0, 28.0,\n",
       "                    29.0, 30.0, 31.0, 32.0, 33.0, 34.0, 35.0, 36.0, 37.0,\n",
       "                    38.0, 39.0, 40.0, 41.0, 42.0, 43.0, 44.0, 45.0, 46.0,\n",
       "                    47.0, 48.0, 49.0, 50.0, 51.0, 52.0, 53.0, 54.0, 55.0,\n",
       "                    56.0, 57.0, 58.0, 59.0, 60.0, 61.0, 62.0, 63.0, 64.0,\n",
       "                    65.0, 66.0, 67.0, 68.0, 69.0, 70.0, 71.0, 72.0, 73.0,\n",
       "                    74.0, 75.0, 76.0, 77.0, 78.0, 79.0, 80.0, 81.0, 82.0,\n",
       "                    83.0, 84.0, 85.0, 86.0, 87.0, 88.0, 89.0, 90.0, 91.0,\n",
       "                    92.0, 93.0, 94.0, 95.0, 96.0, 97.0, 98.0, 99.0, 100.0],\n",
       "              mask=[False, False, False, False, False, False, False, False,\n",
       "                    False, False, False, False, False, False, False, False,\n",
       "                    False, False, False, False, False, False, False, False,\n",
       "                    False, False, False, False, False, False, False, False,\n",
       "                    False, False, False, False, False, False, False, False,\n",
       "                    False, False, False, False, False, False, False, False,\n",
       "                    False, False, False, False, False, False, False, False,\n",
       "                    False, False, False, False, False, False, False, False,\n",
       "                    False, False, False, False, False, False, False, False,\n",
       "                    False, False, False, False, False, False, False, False,\n",
       "                    False, False, False, False, False, False, False, False,\n",
       "                    False, False, False, False, False, False, False, False,\n",
       "                    False, False, False, False],\n",
       "        fill_value='?',\n",
       "             dtype=object),\n",
       " 'params': [{'alpha': 1.0},\n",
       "  {'alpha': 2.0},\n",
       "  {'alpha': 3.0},\n",
       "  {'alpha': 4.0},\n",
       "  {'alpha': 5.0},\n",
       "  {'alpha': 6.0},\n",
       "  {'alpha': 7.0},\n",
       "  {'alpha': 8.0},\n",
       "  {'alpha': 9.0},\n",
       "  {'alpha': 10.0},\n",
       "  {'alpha': 11.0},\n",
       "  {'alpha': 12.0},\n",
       "  {'alpha': 13.0},\n",
       "  {'alpha': 14.0},\n",
       "  {'alpha': 15.0},\n",
       "  {'alpha': 16.0},\n",
       "  {'alpha': 17.0},\n",
       "  {'alpha': 18.0},\n",
       "  {'alpha': 19.0},\n",
       "  {'alpha': 20.0},\n",
       "  {'alpha': 21.0},\n",
       "  {'alpha': 22.0},\n",
       "  {'alpha': 23.0},\n",
       "  {'alpha': 24.0},\n",
       "  {'alpha': 25.0},\n",
       "  {'alpha': 26.0},\n",
       "  {'alpha': 27.0},\n",
       "  {'alpha': 28.0},\n",
       "  {'alpha': 29.0},\n",
       "  {'alpha': 30.0},\n",
       "  {'alpha': 31.0},\n",
       "  {'alpha': 32.0},\n",
       "  {'alpha': 33.0},\n",
       "  {'alpha': 34.0},\n",
       "  {'alpha': 35.0},\n",
       "  {'alpha': 36.0},\n",
       "  {'alpha': 37.0},\n",
       "  {'alpha': 38.0},\n",
       "  {'alpha': 39.0},\n",
       "  {'alpha': 40.0},\n",
       "  {'alpha': 41.0},\n",
       "  {'alpha': 42.0},\n",
       "  {'alpha': 43.0},\n",
       "  {'alpha': 44.0},\n",
       "  {'alpha': 45.0},\n",
       "  {'alpha': 46.0},\n",
       "  {'alpha': 47.0},\n",
       "  {'alpha': 48.0},\n",
       "  {'alpha': 49.0},\n",
       "  {'alpha': 50.0},\n",
       "  {'alpha': 51.0},\n",
       "  {'alpha': 52.0},\n",
       "  {'alpha': 53.0},\n",
       "  {'alpha': 54.0},\n",
       "  {'alpha': 55.0},\n",
       "  {'alpha': 56.0},\n",
       "  {'alpha': 57.0},\n",
       "  {'alpha': 58.0},\n",
       "  {'alpha': 59.0},\n",
       "  {'alpha': 60.0},\n",
       "  {'alpha': 61.0},\n",
       "  {'alpha': 62.0},\n",
       "  {'alpha': 63.0},\n",
       "  {'alpha': 64.0},\n",
       "  {'alpha': 65.0},\n",
       "  {'alpha': 66.0},\n",
       "  {'alpha': 67.0},\n",
       "  {'alpha': 68.0},\n",
       "  {'alpha': 69.0},\n",
       "  {'alpha': 70.0},\n",
       "  {'alpha': 71.0},\n",
       "  {'alpha': 72.0},\n",
       "  {'alpha': 73.0},\n",
       "  {'alpha': 74.0},\n",
       "  {'alpha': 75.0},\n",
       "  {'alpha': 76.0},\n",
       "  {'alpha': 77.0},\n",
       "  {'alpha': 78.0},\n",
       "  {'alpha': 79.0},\n",
       "  {'alpha': 80.0},\n",
       "  {'alpha': 81.0},\n",
       "  {'alpha': 82.0},\n",
       "  {'alpha': 83.0},\n",
       "  {'alpha': 84.0},\n",
       "  {'alpha': 85.0},\n",
       "  {'alpha': 86.0},\n",
       "  {'alpha': 87.0},\n",
       "  {'alpha': 88.0},\n",
       "  {'alpha': 89.0},\n",
       "  {'alpha': 90.0},\n",
       "  {'alpha': 91.0},\n",
       "  {'alpha': 92.0},\n",
       "  {'alpha': 93.0},\n",
       "  {'alpha': 94.0},\n",
       "  {'alpha': 95.0},\n",
       "  {'alpha': 96.0},\n",
       "  {'alpha': 97.0},\n",
       "  {'alpha': 98.0},\n",
       "  {'alpha': 99.0},\n",
       "  {'alpha': 100.0}],\n",
       " 'split0_test_score': array([-3552.87411537, -3552.87483507, -3552.87555476, -3552.87627445,\n",
       "        -3552.87699413, -3552.87771381, -3552.87843349, -3552.87915316,\n",
       "        -3552.87987282, -3552.88059248, -3552.88131214, -3552.88203179,\n",
       "        -3552.88275144, -3552.88347108, -3552.88419071, -3552.88491035,\n",
       "        -3552.88562997, -3552.8863496 , -3552.88706922, -3552.88778883,\n",
       "        -3552.88850844, -3552.88922804, -3552.88994764, -3552.89066724,\n",
       "        -3552.89138683, -3552.89210642, -3552.892826  , -3552.89354557,\n",
       "        -3552.89426515, -3552.89498471, -3552.89570428, -3552.89642383,\n",
       "        -3552.89714339, -3552.89786294, -3552.89858248, -3552.89930202,\n",
       "        -3552.90002156, -3552.90074109, -3552.90146061, -3552.90218013,\n",
       "        -3552.90289965, -3552.90361916, -3552.90433867, -3552.90505817,\n",
       "        -3552.90577767, -3552.90649716, -3552.90721665, -3552.90793613,\n",
       "        -3552.90865561, -3552.90937509, -3552.91009456, -3552.91081402,\n",
       "        -3552.91153348, -3552.91225294, -3552.91297239, -3552.91369184,\n",
       "        -3552.91441128, -3552.91513072, -3552.91585015, -3552.91656958,\n",
       "        -3552.917289  , -3552.91800842, -3552.91872784, -3552.91944725,\n",
       "        -3552.92016665, -3552.92088605, -3552.92160545, -3552.92232484,\n",
       "        -3552.92304422, -3552.92376361, -3552.92448298, -3552.92520236,\n",
       "        -3552.92592172, -3552.92664109, -3552.92736045, -3552.9280798 ,\n",
       "        -3552.92879915, -3552.92951849, -3552.93023783, -3552.93095717,\n",
       "        -3552.9316765 , -3552.93239583, -3552.93311515, -3552.93383447,\n",
       "        -3552.93455378, -3552.93527309, -3552.93599239, -3552.93671169,\n",
       "        -3552.93743098, -3552.93815027, -3552.93886955, -3552.93958883,\n",
       "        -3552.94030811, -3552.94102738, -3552.94174664, -3552.94246591,\n",
       "        -3552.94318516, -3552.94390441, -3552.94462366, -3552.9453429 ]),\n",
       " 'split1_test_score': array([-3558.2197009 , -3558.22041969, -3558.22113848, -3558.22185726,\n",
       "        -3558.22257604, -3558.22329482, -3558.22401359, -3558.22473235,\n",
       "        -3558.22545111, -3558.22616987, -3558.22688862, -3558.22760737,\n",
       "        -3558.22832611, -3558.22904514, -3558.22976417, -3558.2304832 ,\n",
       "        -3558.23120223, -3558.23192125, -3558.23264026, -3558.23335927,\n",
       "        -3558.23407828, -3558.23479728, -3558.23551628, -3558.23623528,\n",
       "        -3558.23695426, -3558.23767325, -3558.23839223, -3558.23911121,\n",
       "        -3558.23983018, -3558.24054914, -3558.24126811, -3558.24198707,\n",
       "        -3558.24270602, -3558.24342497, -3558.24414391, -3558.24486285,\n",
       "        -3558.24558179, -3558.24630072, -3558.24701965, -3558.24773857,\n",
       "        -3558.24845749, -3558.2491764 , -3558.24989531, -3558.25061422,\n",
       "        -3558.25133312, -3558.25205201, -3558.2527709 , -3558.25348979,\n",
       "        -3558.25420867, -3558.25492755, -3558.25564642, -3558.25636529,\n",
       "        -3558.25708416, -3558.25780302, -3558.25852187, -3558.25924072,\n",
       "        -3558.25995957, -3558.26067841, -3558.26139725, -3558.26211608,\n",
       "        -3558.26283491, -3558.26355374, -3558.26427256, -3558.26499137,\n",
       "        -3558.26571018, -3558.26642899, -3558.26714779, -3558.26786659,\n",
       "        -3558.26858538, -3558.26930417, -3558.27002296, -3558.27074174,\n",
       "        -3558.27146051, -3558.27217928, -3558.27289805, -3558.27361681,\n",
       "        -3558.27433557, -3558.27505432, -3558.27577307, -3558.27649182,\n",
       "        -3558.27721056, -3558.27792929, -3558.27864802, -3558.27936675,\n",
       "        -3558.28008547, -3558.28080419, -3558.2815229 , -3558.28224161,\n",
       "        -3558.28296031, -3558.28367901, -3558.28439771, -3558.2851164 ,\n",
       "        -3558.28583509, -3558.28655377, -3558.28727245, -3558.28799112,\n",
       "        -3558.28870979, -3558.28942845, -3558.29014711, -3558.29086577]),\n",
       " 'split2_test_score': array([-3586.92417925, -3586.92491031, -3586.92564136, -3586.92637241,\n",
       "        -3586.92710346, -3586.9278345 , -3586.92856554, -3586.92929657,\n",
       "        -3586.9300276 , -3586.93075862, -3586.93148964, -3586.93222066,\n",
       "        -3586.93295167, -3586.93368267, -3586.93441367, -3586.93514467,\n",
       "        -3586.93587566, -3586.93660665, -3586.93733763, -3586.93806861,\n",
       "        -3586.93879958, -3586.93953055, -3586.94026152, -3586.94099248,\n",
       "        -3586.94172343, -3586.94245438, -3586.94318533, -3586.94391627,\n",
       "        -3586.94464721, -3586.94537814, -3586.94610907, -3586.94684   ,\n",
       "        -3586.94757092, -3586.94830183, -3586.94903274, -3586.94976365,\n",
       "        -3586.95049455, -3586.95122545, -3586.95195634, -3586.95268723,\n",
       "        -3586.95341811, -3586.95414899, -3586.95487986, -3586.95561073,\n",
       "        -3586.9563416 , -3586.95707246, -3586.95780332, -3586.95853417,\n",
       "        -3586.95926502, -3586.95999586, -3586.9607267 , -3586.96145753,\n",
       "        -3586.96218836, -3586.96291919, -3586.96365001, -3586.96438082,\n",
       "        -3586.96511163, -3586.96584244, -3586.96657324, -3586.96730404,\n",
       "        -3586.96803483, -3586.96876562, -3586.96949641, -3586.97022719,\n",
       "        -3586.97095796, -3586.97168873, -3586.9724195 , -3586.97315026,\n",
       "        -3586.97388102, -3586.97461177, -3586.97534252, -3586.97607326,\n",
       "        -3586.976804  , -3586.97753474, -3586.97826547, -3586.97899619,\n",
       "        -3586.97972691, -3586.98045763, -3586.98118834, -3586.98191905,\n",
       "        -3586.98264975, -3586.98338045, -3586.98411114, -3586.98484183,\n",
       "        -3586.98557252, -3586.9863032 , -3586.98703388, -3586.98776455,\n",
       "        -3586.98849521, -3586.98922588, -3586.98995653, -3586.99068719,\n",
       "        -3586.99141784, -3586.99214848, -3586.99287912, -3586.99360976,\n",
       "        -3586.99434039, -3586.99507101, -3586.99580164, -3586.99653225]),\n",
       " 'split3_test_score': array([-3593.79015644, -3593.79084339, -3593.79153033, -3593.79221727,\n",
       "        -3593.79290421, -3593.79359114, -3593.79427807, -3593.79496499,\n",
       "        -3593.79565191, -3593.79633883, -3593.79702574, -3593.79771264,\n",
       "        -3593.79839954, -3593.79908644, -3593.79977333, -3593.80046022,\n",
       "        -3593.80114711, -3593.80183399, -3593.80252086, -3593.80320774,\n",
       "        -3593.8038946 , -3593.80458147, -3593.80526832, -3593.80595518,\n",
       "        -3593.80664203, -3593.80732888, -3593.80801572, -3593.80870255,\n",
       "        -3593.80938939, -3593.81007622, -3593.81076304, -3593.81144986,\n",
       "        -3593.81213668, -3593.81282349, -3593.81351038, -3593.81419738,\n",
       "        -3593.81488437, -3593.81557135, -3593.81625834, -3593.81694532,\n",
       "        -3593.81763229, -3593.81831926, -3593.81900622, -3593.81969319,\n",
       "        -3593.82038014, -3593.8210671 , -3593.82175404, -3593.82244099,\n",
       "        -3593.82312793, -3593.82381486, -3593.82450179, -3593.82518872,\n",
       "        -3593.82587564, -3593.82656256, -3593.82724947, -3593.82793638,\n",
       "        -3593.82862329, -3593.82931019, -3593.82999709, -3593.83068398,\n",
       "        -3593.83137087, -3593.83205775, -3593.83274463, -3593.8334315 ,\n",
       "        -3593.83411838, -3593.83480524, -3593.8354921 , -3593.83617896,\n",
       "        -3593.83686582, -3593.83755266, -3593.83823951, -3593.83892635,\n",
       "        -3593.83961319, -3593.84030002, -3593.84098685, -3593.84167367,\n",
       "        -3593.84236049, -3593.8430473 , -3593.84373411, -3593.84442092,\n",
       "        -3593.84510772, -3593.84579452, -3593.84648131, -3593.8471681 ,\n",
       "        -3593.84785489, -3593.84854172, -3593.84922869, -3593.84991566,\n",
       "        -3593.85060262, -3593.85128958, -3593.85197653, -3593.85266348,\n",
       "        -3593.85335043, -3593.85403737, -3593.85472431, -3593.85541124,\n",
       "        -3593.85609817, -3593.85678509, -3593.85747201, -3593.85815893]),\n",
       " 'split4_test_score': array([-3578.36947188, -3578.37015008, -3578.37082827, -3578.37150647,\n",
       "        -3578.37218465, -3578.37286284, -3578.37354102, -3578.37421919,\n",
       "        -3578.37489736, -3578.37557553, -3578.37625369, -3578.37693185,\n",
       "        -3578.37761   , -3578.37828815, -3578.37896629, -3578.37964443,\n",
       "        -3578.38032257, -3578.3810007 , -3578.38167882, -3578.38235695,\n",
       "        -3578.38303506, -3578.38371318, -3578.38439129, -3578.38506939,\n",
       "        -3578.38574749, -3578.38642559, -3578.38710368, -3578.38778197,\n",
       "        -3578.38846062, -3578.38913927, -3578.38981792, -3578.39049656,\n",
       "        -3578.39117519, -3578.39185382, -3578.39253245, -3578.39321107,\n",
       "        -3578.39388969, -3578.39456831, -3578.39524692, -3578.39592552,\n",
       "        -3578.39660412, -3578.39728272, -3578.39796131, -3578.3986399 ,\n",
       "        -3578.39931848, -3578.39999706, -3578.40067563, -3578.4013542 ,\n",
       "        -3578.40203277, -3578.40271133, -3578.40338989, -3578.40406844,\n",
       "        -3578.40474699, -3578.40542553, -3578.40610407, -3578.40678261,\n",
       "        -3578.40746141, -3578.40814028, -3578.40881913, -3578.40949799,\n",
       "        -3578.41017684, -3578.41085568, -3578.41153452, -3578.41221336,\n",
       "        -3578.41289219, -3578.41357102, -3578.41424984, -3578.41492866,\n",
       "        -3578.41560747, -3578.4162863 , -3578.41696533, -3578.41764436,\n",
       "        -3578.41832338, -3578.41900239, -3578.41968141, -3578.42036041,\n",
       "        -3578.42103942, -3578.42171842, -3578.42239741, -3578.4230764 ,\n",
       "        -3578.42375539, -3578.42443437, -3578.42511335, -3578.42579232,\n",
       "        -3578.42647129, -3578.42715025, -3578.42782921, -3578.42850817,\n",
       "        -3578.42918712, -3578.42986606, -3578.43054501, -3578.43122394,\n",
       "        -3578.43190288, -3578.43258181, -3578.43326073, -3578.43393965,\n",
       "        -3578.43461857, -3578.43529748, -3578.43597639, -3578.43665529]),\n",
       " 'split5_test_score': array([-3579.58747833, -3579.58818019, -3579.58888204, -3579.58958389,\n",
       "        -3579.59028573, -3579.59098757, -3579.5916894 , -3579.59239123,\n",
       "        -3579.59309306, -3579.59379488, -3579.5944967 , -3579.59519851,\n",
       "        -3579.59590032, -3579.59660212, -3579.59730392, -3579.59800571,\n",
       "        -3579.5987075 , -3579.59940929, -3579.60011107, -3579.60081285,\n",
       "        -3579.60151462, -3579.60221639, -3579.60291815, -3579.60361991,\n",
       "        -3579.60432166, -3579.60502341, -3579.60572515, -3579.60642689,\n",
       "        -3579.60712863, -3579.60783036, -3579.60853209, -3579.60923381,\n",
       "        -3579.60993553, -3579.61063724, -3579.61133895, -3579.61204066,\n",
       "        -3579.61274236, -3579.61344405, -3579.61414574, -3579.61484743,\n",
       "        -3579.61554911, -3579.61625079, -3579.61695246, -3579.61765413,\n",
       "        -3579.61835579, -3579.61905745, -3579.61975911, -3579.62046076,\n",
       "        -3579.6211624 , -3579.62186405, -3579.62256568, -3579.62326731,\n",
       "        -3579.62396894, -3579.62467057, -3579.62537219, -3579.6260738 ,\n",
       "        -3579.62677541, -3579.62747702, -3579.62817862, -3579.62888021,\n",
       "        -3579.62958181, -3579.63028339, -3579.63098498, -3579.63168655,\n",
       "        -3579.63238813, -3579.6330897 , -3579.63379126, -3579.63449282,\n",
       "        -3579.63519438, -3579.63589593, -3579.63659748, -3579.63729902,\n",
       "        -3579.63800056, -3579.63870209, -3579.63940362, -3579.64010515,\n",
       "        -3579.64080667, -3579.64150818, -3579.6422097 , -3579.6429112 ,\n",
       "        -3579.6436127 , -3579.6443142 , -3579.6450157 , -3579.64571718,\n",
       "        -3579.64641867, -3579.64712015, -3579.64782162, -3579.64852309,\n",
       "        -3579.64922456, -3579.64992602, -3579.65062748, -3579.65132893,\n",
       "        -3579.65203038, -3579.65273183, -3579.65343327, -3579.6541347 ,\n",
       "        -3579.65483613, -3579.65553756, -3579.65623898, -3579.6569404 ]),\n",
       " 'split6_test_score': array([-3562.52598367, -3562.52671493, -3562.5274462 , -3562.52817745,\n",
       "        -3562.5289087 , -3562.52963995, -3562.53037119, -3562.53110243,\n",
       "        -3562.53183366, -3562.53256489, -3562.53329612, -3562.53402734,\n",
       "        -3562.53475855, -3562.53548976, -3562.53622097, -3562.53695217,\n",
       "        -3562.53768337, -3562.53841456, -3562.53914575, -3562.53987693,\n",
       "        -3562.54060816, -3562.54133942, -3562.54207067, -3562.54280192,\n",
       "        -3562.54353316, -3562.5442644 , -3562.54499564, -3562.54572687,\n",
       "        -3562.54645809, -3562.54718932, -3562.54792053, -3562.54865175,\n",
       "        -3562.54938295, -3562.55011416, -3562.55084535, -3562.55157655,\n",
       "        -3562.55230774, -3562.55303892, -3562.5537701 , -3562.55450128,\n",
       "        -3562.55523245, -3562.55596362, -3562.55669478, -3562.55742593,\n",
       "        -3562.55815709, -3562.55888824, -3562.55961938, -3562.56035052,\n",
       "        -3562.56108165, -3562.56181278, -3562.56254391, -3562.56327503,\n",
       "        -3562.56400614, -3562.56473726, -3562.56546836, -3562.56619946,\n",
       "        -3562.56693056, -3562.56766166, -3562.56839274, -3562.56912383,\n",
       "        -3562.56985491, -3562.57058598, -3562.57131705, -3562.57204812,\n",
       "        -3562.57277918, -3562.57351023, -3562.57424129, -3562.57497233,\n",
       "        -3562.57570338, -3562.57643442, -3562.57716545, -3562.57789648,\n",
       "        -3562.5786275 , -3562.57935852, -3562.58008954, -3562.58082055,\n",
       "        -3562.58155155, -3562.58228256, -3562.58301355, -3562.58374454,\n",
       "        -3562.58447553, -3562.58520652, -3562.58593749, -3562.58666847,\n",
       "        -3562.58739944, -3562.5881304 , -3562.58886136, -3562.58959232,\n",
       "        -3562.59032327, -3562.59105422, -3562.59178516, -3562.5925161 ,\n",
       "        -3562.59324703, -3562.59397796, -3562.59470888, -3562.5954398 ,\n",
       "        -3562.59617071, -3562.59690162, -3562.59763253, -3562.59836343]),\n",
       " 'split7_test_score': array([-3580.10553822, -3580.10625765, -3580.10697707, -3580.10769649,\n",
       "        -3580.10841591, -3580.10913532, -3580.10985472, -3580.11057412,\n",
       "        -3580.11129352, -3580.11201291, -3580.1127323 , -3580.11345224,\n",
       "        -3580.11417267, -3580.11489309, -3580.11561351, -3580.11633392,\n",
       "        -3580.11705433, -3580.11777474, -3580.11849514, -3580.11921553,\n",
       "        -3580.11993592, -3580.12065631, -3580.12137669, -3580.12209707,\n",
       "        -3580.12281744, -3580.12353781, -3580.12425818, -3580.12497853,\n",
       "        -3580.12569889, -3580.12641924, -3580.12713959, -3580.12785993,\n",
       "        -3580.12858026, -3580.12930059, -3580.13002092, -3580.13074124,\n",
       "        -3580.13146156, -3580.13218188, -3580.13290219, -3580.13362249,\n",
       "        -3580.13434279, -3580.13506308, -3580.13578338, -3580.13650366,\n",
       "        -3580.13722394, -3580.13794422, -3580.13866449, -3580.13938491,\n",
       "        -3580.14010555, -3580.14082619, -3580.14154683, -3580.14226746,\n",
       "        -3580.14298808, -3580.1437087 , -3580.14442931, -3580.14514992,\n",
       "        -3580.14587053, -3580.14659113, -3580.14731173, -3580.14803232,\n",
       "        -3580.14875291, -3580.14947349, -3580.15019407, -3580.15091464,\n",
       "        -3580.15163521, -3580.15235578, -3580.15307634, -3580.15379689,\n",
       "        -3580.15451745, -3580.15523799, -3580.15595853, -3580.15667907,\n",
       "        -3580.1573996 , -3580.15812013, -3580.15884066, -3580.15956118,\n",
       "        -3580.16028169, -3580.1610022 , -3580.16172271, -3580.16244321,\n",
       "        -3580.1631637 , -3580.16388419, -3580.16460468, -3580.16532516,\n",
       "        -3580.16604564, -3580.16676612, -3580.16748658, -3580.16820705,\n",
       "        -3580.16892751, -3580.16964796, -3580.17036841, -3580.17108886,\n",
       "        -3580.1718093 , -3580.17252974, -3580.17325017, -3580.1739706 ,\n",
       "        -3580.17469102, -3580.17541153, -3580.17613223, -3580.17685292]),\n",
       " 'split8_test_score': array([-3614.77341447, -3614.77411912, -3614.77482376, -3614.77552841,\n",
       "        -3614.77623304, -3614.77693768, -3614.7776423 , -3614.77834693,\n",
       "        -3614.77905155, -3614.77975617, -3614.78046078, -3614.78116538,\n",
       "        -3614.78186999, -3614.78257459, -3614.78327926, -3614.78398404,\n",
       "        -3614.78468881, -3614.78539358, -3614.78609835, -3614.78680311,\n",
       "        -3614.78750787, -3614.78821262, -3614.78891737, -3614.78962212,\n",
       "        -3614.79032686, -3614.79103159, -3614.79173632, -3614.79244105,\n",
       "        -3614.79314577, -3614.79385049, -3614.79455521, -3614.79525992,\n",
       "        -3614.79596462, -3614.79666932, -3614.79737402, -3614.79807871,\n",
       "        -3614.7987834 , -3614.79948809, -3614.80019277, -3614.80089744,\n",
       "        -3614.80160211, -3614.80230678, -3614.80301144, -3614.8037161 ,\n",
       "        -3614.80442076, -3614.8051254 , -3614.80583005, -3614.80653469,\n",
       "        -3614.80723933, -3614.80794396, -3614.80864859, -3614.80935321,\n",
       "        -3614.81005783, -3614.81076245, -3614.81146706, -3614.81217167,\n",
       "        -3614.81287627, -3614.81358087, -3614.81428546, -3614.81499005,\n",
       "        -3614.81569463, -3614.81639921, -3614.81710379, -3614.81780836,\n",
       "        -3614.81851293, -3614.81921749, -3614.81992205, -3614.82062661,\n",
       "        -3614.82133116, -3614.82203571, -3614.82274025, -3614.82344478,\n",
       "        -3614.82414932, -3614.82485385, -3614.82555837, -3614.82626289,\n",
       "        -3614.82696741, -3614.82767192, -3614.82837643, -3614.82908093,\n",
       "        -3614.82978543, -3614.83048992, -3614.83119441, -3614.8318989 ,\n",
       "        -3614.83260338, -3614.83330786, -3614.83401233, -3614.8347168 ,\n",
       "        -3614.83542127, -3614.83612573, -3614.83683018, -3614.83753463,\n",
       "        -3614.83823908, -3614.83894352, -3614.83964796, -3614.8403524 ,\n",
       "        -3614.84105683, -3614.84176125, -3614.84246567, -3614.84317009]),\n",
       " 'split9_test_score': array([-3571.4282863 , -3571.42901561, -3571.42974492, -3571.43047422,\n",
       "        -3571.43120351, -3571.4319328 , -3571.43266209, -3571.43339137,\n",
       "        -3571.43412065, -3571.43484992, -3571.43557919, -3571.43630845,\n",
       "        -3571.43703771, -3571.43776696, -3571.43849621, -3571.43922546,\n",
       "        -3571.4399547 , -3571.44068393, -3571.44141316, -3571.44214239,\n",
       "        -3571.44287161, -3571.44360083, -3571.44433004, -3571.44505925,\n",
       "        -3571.44578846, -3571.44651766, -3571.44724685, -3571.44797604,\n",
       "        -3571.44870523, -3571.44943441, -3571.45016358, -3571.45089275,\n",
       "        -3571.45162192, -3571.45235108, -3571.45308024, -3571.4538094 ,\n",
       "        -3571.45453855, -3571.45526769, -3571.45599683, -3571.45672596,\n",
       "        -3571.4574551 , -3571.45818422, -3571.45891334, -3571.45964246,\n",
       "        -3571.46037157, -3571.46110068, -3571.46182978, -3571.46255888,\n",
       "        -3571.46328798, -3571.46401707, -3571.46474615, -3571.46547523,\n",
       "        -3571.46620431, -3571.46693338, -3571.46766244, -3571.46839151,\n",
       "        -3571.46912056, -3571.46984962, -3571.47057866, -3571.47130771,\n",
       "        -3571.47203675, -3571.47276578, -3571.47349481, -3571.47422384,\n",
       "        -3571.47495286, -3571.47568187, -3571.47641089, -3571.47713989,\n",
       "        -3571.4778689 , -3571.47859789, -3571.47932689, -3571.48005588,\n",
       "        -3571.48078486, -3571.48151384, -3571.48224282, -3571.48297179,\n",
       "        -3571.48370075, -3571.48442971, -3571.48515867, -3571.48588762,\n",
       "        -3571.48661657, -3571.48734551, -3571.48807445, -3571.48880339,\n",
       "        -3571.48953232, -3571.49026124, -3571.49099016, -3571.49171908,\n",
       "        -3571.49244799, -3571.49317689, -3571.4939058 , -3571.49463469,\n",
       "        -3571.49536359, -3571.49609247, -3571.49682136, -3571.49755024,\n",
       "        -3571.49827911, -3571.49900798, -3571.49973685, -3571.50046571]),\n",
       " 'mean_test_score': array([-3577.85983248, -3577.8605446 , -3577.86125672, -3577.86196883,\n",
       "        -3577.86268094, -3577.86339304, -3577.86410514, -3577.86481723,\n",
       "        -3577.86552932, -3577.86624141, -3577.86695349, -3577.86766562,\n",
       "        -3577.8683778 , -3577.86909   , -3577.86980221, -3577.87051442,\n",
       "        -3577.87122662, -3577.87193883, -3577.87265103, -3577.87336322,\n",
       "        -3577.87407542, -3577.87478761, -3577.8754998 , -3577.87621198,\n",
       "        -3577.87692416, -3577.87763634, -3577.87834851, -3577.8790607 ,\n",
       "        -3577.87977292, -3577.88048513, -3577.88119734, -3577.88190955,\n",
       "        -3577.88262175, -3577.88333394, -3577.88404615, -3577.88475835,\n",
       "        -3577.88547056, -3577.88618275, -3577.88689495, -3577.88760714,\n",
       "        -3577.88831932, -3577.8890315 , -3577.88974368, -3577.89045585,\n",
       "        -3577.89116802, -3577.89188018, -3577.89259234, -3577.8933045 ,\n",
       "        -3577.89401669, -3577.89472887, -3577.89544105, -3577.89615322,\n",
       "        -3577.89686539, -3577.89757756, -3577.89828972, -3577.89900187,\n",
       "        -3577.89971405, -3577.90042623, -3577.90113841, -3577.90185058,\n",
       "        -3577.90256275, -3577.90327491, -3577.90398707, -3577.90469922,\n",
       "        -3577.90541137, -3577.90612351, -3577.90683565, -3577.90754779,\n",
       "        -3577.90825992, -3577.90897205, -3577.90968419, -3577.91039633,\n",
       "        -3577.91110846, -3577.9118206 , -3577.91253272, -3577.91324484,\n",
       "        -3577.91395696, -3577.91466907, -3577.91538118, -3577.91609329,\n",
       "        -3577.91680539, -3577.91751748, -3577.91822957, -3577.91894166,\n",
       "        -3577.91965374, -3577.92036582, -3577.92107791, -3577.92179   ,\n",
       "        -3577.92250208, -3577.92321416, -3577.92392624, -3577.92463831,\n",
       "        -3577.92535037, -3577.92606243, -3577.92677449, -3577.92748654,\n",
       "        -3577.92819859, -3577.92891064, -3577.92962271, -3577.93033477]),\n",
       " 'std_test_score': array([17.30130157, 17.30129435, 17.30128714, 17.30127993, 17.30127271,\n",
       "        17.3012655 , 17.30125828, 17.30125107, 17.30124386, 17.30123664,\n",
       "        17.30122943, 17.30122222, 17.30121502, 17.30120779, 17.30120058,\n",
       "        17.30119338, 17.30118619, 17.301179  , 17.30117181, 17.30116461,\n",
       "        17.30115742, 17.30115022, 17.30114302, 17.30113582, 17.30112862,\n",
       "        17.30112142, 17.30111422, 17.30110702, 17.30109982, 17.30109263,\n",
       "        17.30108543, 17.30107823, 17.30107104, 17.30106384, 17.30105665,\n",
       "        17.30104947, 17.30104229, 17.30103511, 17.30102794, 17.30102076,\n",
       "        17.30101358, 17.3010064 , 17.30099922, 17.30099204, 17.30098487,\n",
       "        17.30097769, 17.30097051, 17.30096333, 17.30095616, 17.30094899,\n",
       "        17.30094182, 17.30093464, 17.30092747, 17.3009203 , 17.30091313,\n",
       "        17.30090596, 17.30089878, 17.30089161, 17.30088444, 17.30087727,\n",
       "        17.3008701 , 17.30086293, 17.30085576, 17.30084859, 17.30084142,\n",
       "        17.30083425, 17.30082708, 17.30081991, 17.30081274, 17.30080557,\n",
       "        17.3007984 , 17.30079123, 17.30078407, 17.3007769 , 17.30076973,\n",
       "        17.30076256, 17.30075539, 17.30074822, 17.30074105, 17.30073389,\n",
       "        17.30072672, 17.30071955, 17.30071238, 17.30070522, 17.30069805,\n",
       "        17.30069089, 17.30068374, 17.30067659, 17.30066944, 17.30066229,\n",
       "        17.30065514, 17.30064799, 17.30064084, 17.30063369, 17.30062654,\n",
       "        17.3006194 , 17.30061225, 17.3006051 , 17.30059796, 17.30059081]),\n",
       " 'rank_test_score': array([  1,   2,   3,   4,   5,   6,   7,   8,   9,  10,  11,  12,  13,\n",
       "         14,  15,  16,  17,  18,  19,  20,  21,  22,  23,  24,  25,  26,\n",
       "         27,  28,  29,  30,  31,  32,  33,  34,  35,  36,  37,  38,  39,\n",
       "         40,  41,  42,  43,  44,  45,  46,  47,  48,  49,  50,  51,  52,\n",
       "         53,  54,  55,  56,  57,  58,  59,  60,  61,  62,  63,  64,  65,\n",
       "         66,  67,  68,  69,  70,  71,  72,  73,  74,  75,  76,  77,  78,\n",
       "         79,  80,  81,  82,  83,  84,  85,  86,  87,  88,  89,  90,  91,\n",
       "         92,  93,  94,  95,  96,  97,  98,  99, 100])}"
      ]
     },
     "execution_count": 75,
     "metadata": {},
     "output_type": "execute_result"
    }
   ],
   "source": [
    "grid_search.cv_results_"
   ]
  },
  {
   "cell_type": "code",
   "execution_count": 76,
   "id": "e9c0bc52",
   "metadata": {},
   "outputs": [],
   "source": [
    "def report(results, n_top=3):\n",
    "    for i in range(1, n_top + 1):\n",
    "        candidates = np.flatnonzero(results['rank_test_score'] == i)\n",
    "        for candidate in candidates:\n",
    "            print(\"Model with rank: {0}\".format(i))\n",
    "            print(\"Mean validation score: {0:.6f} (std: {1:.6f})\".format(\n",
    "                  results['mean_test_score'][candidate],\n",
    "                  results['std_test_score'][candidate]))\n",
    "            print(\"Parameters: {0}\".format(results['params'][candidate]))\n",
    "            print(\"\")"
   ]
  },
  {
   "cell_type": "code",
   "execution_count": 77,
   "id": "c9f0b7bf",
   "metadata": {},
   "outputs": [
    {
     "name": "stdout",
     "output_type": "stream",
     "text": [
      "Model with rank: 1\n",
      "Mean validation score: -3577.859832 (std: 17.301302)\n",
      "Parameters: {'alpha': 1.0}\n",
      "\n",
      "Model with rank: 2\n",
      "Mean validation score: -3577.860545 (std: 17.301294)\n",
      "Parameters: {'alpha': 2.0}\n",
      "\n",
      "Model with rank: 3\n",
      "Mean validation score: -3577.861257 (std: 17.301287)\n",
      "Parameters: {'alpha': 3.0}\n",
      "\n",
      "Model with rank: 4\n",
      "Mean validation score: -3577.861969 (std: 17.301280)\n",
      "Parameters: {'alpha': 4.0}\n",
      "\n",
      "Model with rank: 5\n",
      "Mean validation score: -3577.862681 (std: 17.301273)\n",
      "Parameters: {'alpha': 5.0}\n",
      "\n"
     ]
    }
   ],
   "source": [
    "report(grid_search.cv_results_,5)"
   ]
  },
  {
   "cell_type": "code",
   "execution_count": 78,
   "id": "6d6be5fc",
   "metadata": {},
   "outputs": [],
   "source": [
    "test_pred=grid_search.predict(X_test)"
   ]
  },
  {
   "cell_type": "code",
   "execution_count": 79,
   "id": "82f1eaca",
   "metadata": {},
   "outputs": [
    {
     "data": {
      "text/plain": [
       "array([11827.52615988, 10472.22509489,  7361.92842744, ...,\n",
       "       10419.50070542, 11647.98662761, 10649.86459303])"
      ]
     },
     "execution_count": 79,
     "metadata": {},
     "output_type": "execute_result"
    }
   ],
   "source": [
    "test_pred"
   ]
  },
  {
   "cell_type": "code",
   "execution_count": 80,
   "id": "dc88484a",
   "metadata": {},
   "outputs": [
    {
     "data": {
      "image/png": "[encoded data removed]",
      "text/plain": [
       "<Figure size 640x480 with 1 Axes>"
      ]
     },
     "metadata": {},
     "output_type": "display_data"
    }
   ],
   "source": [
    "sns.regplot(x = y_test,y=test_pred)\n",
    "plt.title('Regression Analysis using Ridge')\n",
    "plt.xlabel('y_test')\n",
    "plt.ylabel('test_pred')\n",
    "plt.grid()\n",
    "plt.show()"
   ]
  },
  {
   "cell_type": "markdown",
   "id": "ff0c38d6",
   "metadata": {},
   "source": [
    "# Lasso Regression"
   ]
  },
  {
   "cell_type": "code",
   "execution_count": 81,
   "id": "b42ce1d3",
   "metadata": {},
   "outputs": [],
   "source": [
    "lambdas=np.linspace(1,10,100)\n",
    "\n",
    "model=Lasso(fit_intercept=True)\n",
    "\n",
    "params={'alpha':lambdas}"
   ]
  },
  {
   "cell_type": "code",
   "execution_count": 82,
   "id": "0dead91e",
   "metadata": {},
   "outputs": [],
   "source": [
    "grid_search=GridSearchCV(model,\n",
    "                         param_grid=params,\n",
    "                         cv=10,\n",
    "                         scoring='neg_mean_absolute_error',\n",
    "                        verbose=20,n_jobs=-1)"
   ]
  },
  {
   "cell_type": "code",
   "execution_count": 83,
   "id": "65ffc6e9",
   "metadata": {},
   "outputs": [
    {
     "name": "stdout",
     "output_type": "stream",
     "text": [
      "Fitting 10 folds for each of 100 candidates, totalling 1000 fits\n"
     ]
    },
    {
     "data": {
      "text/plain": [
       "GridSearchCV(cv=10, estimator=Lasso(), n_jobs=-1,\n",
       "             param_grid={'alpha': array([ 1.        ,  1.09090909,  1.18181818,  1.27272727,  1.36363636,\n",
       "        1.45454545,  1.54545455,  1.63636364,  1.72727273,  1.81818182,\n",
       "        1.90909091,  2.        ,  2.09090909,  2.18181818,  2.27272727,\n",
       "        2.36363636,  2.45454545,  2.54545455,  2.63636364,  2.72727273,\n",
       "        2.81818182,  2.90909091,  3.        ,  3.09090909,  3.18181818,\n",
       "        3.27272727,  3.36363636,  3.4...\n",
       "        7.36363636,  7.45454545,  7.54545455,  7.63636364,  7.72727273,\n",
       "        7.81818182,  7.90909091,  8.        ,  8.09090909,  8.18181818,\n",
       "        8.27272727,  8.36363636,  8.45454545,  8.54545455,  8.63636364,\n",
       "        8.72727273,  8.81818182,  8.90909091,  9.        ,  9.09090909,\n",
       "        9.18181818,  9.27272727,  9.36363636,  9.45454545,  9.54545455,\n",
       "        9.63636364,  9.72727273,  9.81818182,  9.90909091, 10.        ])},\n",
       "             scoring='neg_mean_absolute_error', verbose=20)"
      ]
     },
     "execution_count": 83,
     "metadata": {},
     "output_type": "execute_result"
    }
   ],
   "source": [
    "grid_search.fit(X_train,y_train)"
   ]
  },
  {
   "cell_type": "code",
   "execution_count": 84,
   "id": "0eded73f",
   "metadata": {},
   "outputs": [
    {
     "data": {
      "text/plain": [
       "Lasso()"
      ]
     },
     "execution_count": 84,
     "metadata": {},
     "output_type": "execute_result"
    }
   ],
   "source": [
    "grid_search.best_estimator_"
   ]
  },
  {
   "cell_type": "code",
   "execution_count": 85,
   "id": "4407867b",
   "metadata": {},
   "outputs": [
    {
     "name": "stdout",
     "output_type": "stream",
     "text": [
      "Model with rank: 1\n",
      "Mean validation score: -3577.929663 (std: 17.297652)\n",
      "Parameters: {'alpha': 1.0}\n",
      "\n",
      "Model with rank: 2\n",
      "Mean validation score: -3577.936171 (std: 17.297354)\n",
      "Parameters: {'alpha': 1.0909090909090908}\n",
      "\n",
      "Model with rank: 3\n",
      "Mean validation score: -3577.942601 (std: 17.296973)\n",
      "Parameters: {'alpha': 1.1818181818181819}\n",
      "\n",
      "Model with rank: 4\n",
      "Mean validation score: -3577.949247 (std: 17.296637)\n",
      "Parameters: {'alpha': 1.2727272727272727}\n",
      "\n",
      "Model with rank: 5\n",
      "Mean validation score: -3577.955909 (std: 17.296307)\n",
      "Parameters: {'alpha': 1.3636363636363638}\n",
      "\n"
     ]
    }
   ],
   "source": [
    "report(grid_search.cv_results_,5)"
   ]
  },
  {
   "cell_type": "code",
   "execution_count": 86,
   "id": "be38c61e",
   "metadata": {},
   "outputs": [],
   "source": [
    "lasso_model=grid_search.best_estimator_"
   ]
  },
  {
   "cell_type": "code",
   "execution_count": 88,
   "id": "ab48cbf9",
   "metadata": {},
   "outputs": [
    {
     "data": {
      "text/plain": [
       "Lasso()"
      ]
     },
     "execution_count": 88,
     "metadata": {},
     "output_type": "execute_result"
    }
   ],
   "source": [
    "lasso_model.fit(X_train,y_train)"
   ]
  },
  {
   "cell_type": "code",
   "execution_count": 89,
   "id": "fc6816f0",
   "metadata": {},
   "outputs": [
    {
     "data": {
      "text/plain": [
       "9260.52247622407"
      ]
     },
     "execution_count": 89,
     "metadata": {},
     "output_type": "execute_result"
    }
   ],
   "source": [
    "lasso_model.intercept_"
   ]
  },
  {
   "cell_type": "code",
   "execution_count": 90,
   "id": "285125ad",
   "metadata": {},
   "outputs": [
    {
     "data": {
      "image/png": "[encoded data removed]",
      "text/plain": [
       "<Figure size 640x480 with 1 Axes>"
      ]
     },
     "metadata": {},
     "output_type": "display_data"
    }
   ],
   "source": [
    "sns.regplot(x = y_test,y=test_pred)\n",
    "plt.title('Regression Analysis using Ridge')\n",
    "plt.xlabel('y_test')\n",
    "plt.ylabel('test_pred')\n",
    "plt.grid()\n",
    "plt.show()"
   ]
  },
  {
   "cell_type": "code",
   "execution_count": null,
   "id": "74585c12",
   "metadata": {},
   "outputs": [],
   "source": []
  }
 ],
 "metadata": {
  "kernelspec": {
   "display_name": "Python 3 (ipykernel)",
   "language": "python",
   "name": "python3"
  },
  "language_info": {
   "codemirror_mode": {
    "name": "ipython",
    "version": 3
   },
   "file_extension": ".py",
   "mimetype": "text/x-python",
   "name": "python",
   "nbconvert_exporter": "python",
   "pygments_lexer": "ipython3",
   "version": "3.9.13"
  }
 },
 "nbformat": 4,
 "nbformat_minor": 5
}
